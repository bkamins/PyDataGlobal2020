{
 "cells": [
  {
   "cell_type": "markdown",
   "metadata": {},
   "source": [
    "# PyData Global 2020\n",
    "\n",
    "# An introduction to DataFrames.jl for pandas users\n",
    "\n",
    "In the code examples I put commented out Python commands from the\n",
    "[PyCon 2018: Using pandas for Better (and Worse) Data Science](https://nbviewer.jupyter.org/github/justmarkham/pycon-2018-tutorial/blob/master/tutorial.ipynb)\n",
    "presentation to give you an easy mapping between Python and Julia codes.\n",
    "\n",
    "---"
   ]
  },
  {
   "cell_type": "markdown",
   "metadata": {},
   "source": [
    "Load the required packages:"
   ]
  },
  {
   "cell_type": "markdown",
   "metadata": {},
   "source": [
    "in-built packages"
   ]
  },
  {
   "cell_type": "code",
   "execution_count": 1,
   "metadata": {},
   "outputs": [],
   "source": [
    "using Statistics # statistical functions\n",
    "using Dates      # functions and types for handling date and time"
   ]
  },
  {
   "cell_type": "markdown",
   "metadata": {},
   "source": [
    "installed packages"
   ]
  },
  {
   "cell_type": "code",
   "execution_count": 2,
   "metadata": {},
   "outputs": [],
   "source": [
    "using CSV        # reading and writing CSV files\n",
    "using DataFrames # working with data frames\n",
    "using Chain      # function chaining\n",
    "using FreqTables # cross-tabulation\n",
    "using PyPlot     # a binding to matplotlib (if you know matplotlib you do not have to learn anything to start plotting)"
   ]
  },
  {
   "cell_type": "markdown",
   "metadata": {},
   "source": [
    "Before we start we change the default width and heights of Jupyter Notebook output"
   ]
  },
  {
   "cell_type": "code",
   "execution_count": 3,
   "metadata": {},
   "outputs": [
    {
     "data": {
      "text/plain": [
       "15"
      ]
     },
     "execution_count": 3,
     "metadata": {},
     "output_type": "execute_result"
    }
   ],
   "source": [
    "ENV[\"COLUMNS\"] = 1000 # wide output is OK\n",
    "ENV[\"LINES\"] = 15 # but we do not want it to be overly tall"
   ]
  },
  {
   "cell_type": "markdown",
   "metadata": {},
   "source": [
    "Now read-in the file"
   ]
  },
  {
   "cell_type": "code",
   "execution_count": 4,
   "metadata": {},
   "outputs": [
    {
     "data": {
      "text/html": [
       "<div class=\"data-frame\"><p>91,741 rows × 15 columns</p><table class=\"data-frame\"><thead><tr><th></th><th>stop_date</th><th>stop_time</th><th>county_name</th><th>driver_gender</th><th>driver_age_raw</th><th>driver_age</th><th>driver_race</th><th>violation_raw</th><th>violation</th><th>search_conducted</th><th>search_type</th><th>stop_outcome</th><th>is_arrested</th><th>stop_duration</th><th>drugs_related_stop</th></tr><tr><th></th><th title=\"Date\">Date</th><th title=\"Time\">Time</th><th title=\"Missing\">Missing</th><th title=\"Union{Missing, String}\">String?</th><th title=\"Union{Missing, Float64}\">Float64?</th><th title=\"Union{Missing, Float64}\">Float64?</th><th title=\"Union{Missing, String}\">String?</th><th title=\"Union{Missing, String}\">String?</th><th title=\"Union{Missing, String}\">String?</th><th title=\"Bool\">Bool</th><th title=\"Union{Missing, String}\">String?</th><th title=\"Union{Missing, String}\">String?</th><th title=\"Union{Missing, Bool}\">Bool?</th><th title=\"Union{Missing, String}\">String?</th><th title=\"Bool\">Bool</th></tr></thead><tbody><tr><th>1</th><td>2005-01-02</td><td>01:55:00</td><td><em>missing</em></td><td>M</td><td>1985.0</td><td>20.0</td><td>White</td><td>Speeding</td><td>Speeding</td><td>0</td><td><em>missing</em></td><td>Citation</td><td>0</td><td>0-15 Min</td><td>0</td></tr><tr><th>2</th><td>2005-01-18</td><td>08:15:00</td><td><em>missing</em></td><td>M</td><td>1965.0</td><td>40.0</td><td>White</td><td>Speeding</td><td>Speeding</td><td>0</td><td><em>missing</em></td><td>Citation</td><td>0</td><td>0-15 Min</td><td>0</td></tr><tr><th>3</th><td>2005-01-23</td><td>23:15:00</td><td><em>missing</em></td><td>M</td><td>1972.0</td><td>33.0</td><td>White</td><td>Speeding</td><td>Speeding</td><td>0</td><td><em>missing</em></td><td>Citation</td><td>0</td><td>0-15 Min</td><td>0</td></tr><tr><th>4</th><td>2005-02-20</td><td>17:15:00</td><td><em>missing</em></td><td>M</td><td>1986.0</td><td>19.0</td><td>White</td><td>Call for Service</td><td>Other</td><td>0</td><td><em>missing</em></td><td>Arrest Driver</td><td>1</td><td>16-30 Min</td><td>0</td></tr><tr><th>5</th><td>2005-03-14</td><td>10:00:00</td><td><em>missing</em></td><td>F</td><td>1984.0</td><td>21.0</td><td>White</td><td>Speeding</td><td>Speeding</td><td>0</td><td><em>missing</em></td><td>Citation</td><td>0</td><td>0-15 Min</td><td>0</td></tr><tr><th>6</th><td>2005-03-23</td><td>09:45:00</td><td><em>missing</em></td><td>M</td><td>1982.0</td><td>23.0</td><td>Black</td><td>Equipment/Inspection Violation</td><td>Equipment</td><td>0</td><td><em>missing</em></td><td>Citation</td><td>0</td><td>0-15 Min</td><td>0</td></tr><tr><th>7</th><td>2005-04-01</td><td>17:30:00</td><td><em>missing</em></td><td>M</td><td>1969.0</td><td>36.0</td><td>White</td><td>Speeding</td><td>Speeding</td><td>0</td><td><em>missing</em></td><td>Citation</td><td>0</td><td>0-15 Min</td><td>0</td></tr><tr><th>8</th><td>2005-06-06</td><td>13:20:00</td><td><em>missing</em></td><td>F</td><td>1986.0</td><td>19.0</td><td>White</td><td>Speeding</td><td>Speeding</td><td>0</td><td><em>missing</em></td><td>Citation</td><td>0</td><td>0-15 Min</td><td>0</td></tr><tr><th>9</th><td>2005-07-13</td><td>10:15:00</td><td><em>missing</em></td><td>M</td><td>1970.0</td><td>35.0</td><td>Black</td><td>Speeding</td><td>Speeding</td><td>0</td><td><em>missing</em></td><td>Citation</td><td>0</td><td>0-15 Min</td><td>0</td></tr><tr><th>10</th><td>2005-07-13</td><td>15:45:00</td><td><em>missing</em></td><td>M</td><td>1970.0</td><td>35.0</td><td>White</td><td>Speeding</td><td>Speeding</td><td>0</td><td><em>missing</em></td><td>Citation</td><td>0</td><td>0-15 Min</td><td>0</td></tr><tr><th>11</th><td>2005-07-13</td><td>16:20:00</td><td><em>missing</em></td><td>M</td><td>1979.0</td><td>26.0</td><td>Asian</td><td>Speeding</td><td>Speeding</td><td>0</td><td><em>missing</em></td><td>Citation</td><td>0</td><td>0-15 Min</td><td>0</td></tr><tr><th>12</th><td>2005-07-13</td><td>19:00:00</td><td><em>missing</em></td><td>F</td><td>1966.0</td><td>39.0</td><td>White</td><td>Speeding</td><td>Speeding</td><td>0</td><td><em>missing</em></td><td>Citation</td><td>0</td><td>0-15 Min</td><td>0</td></tr><tr><th>13</th><td>2005-07-14</td><td>19:55:00</td><td><em>missing</em></td><td>M</td><td>1979.0</td><td>26.0</td><td>White</td><td>Speeding</td><td>Speeding</td><td>0</td><td><em>missing</em></td><td>Citation</td><td>0</td><td>0-15 Min</td><td>0</td></tr><tr><th>14</th><td>2005-07-18</td><td>19:30:00</td><td><em>missing</em></td><td>F</td><td>1984.0</td><td>21.0</td><td>White</td><td>Speeding</td><td>Speeding</td><td>0</td><td><em>missing</em></td><td>Citation</td><td>0</td><td>0-15 Min</td><td>0</td></tr><tr><th>15</th><td>2005-07-18</td><td>19:45:00</td><td><em>missing</em></td><td>M</td><td>1969.0</td><td>36.0</td><td>White</td><td>Speeding</td><td>Speeding</td><td>0</td><td><em>missing</em></td><td>Citation</td><td>0</td><td>0-15 Min</td><td>0</td></tr><tr><th>&vellip;</th><td>&vellip;</td><td>&vellip;</td><td>&vellip;</td><td>&vellip;</td><td>&vellip;</td><td>&vellip;</td><td>&vellip;</td><td>&vellip;</td><td>&vellip;</td><td>&vellip;</td><td>&vellip;</td><td>&vellip;</td><td>&vellip;</td><td>&vellip;</td><td>&vellip;</td></tr></tbody></table></div>"
      ],
      "text/latex": [
       "\\begin{tabular}{r|ccccccccccccccc}\n",
       "\t& stop\\_date & stop\\_time & county\\_name & driver\\_gender & driver\\_age\\_raw & driver\\_age & driver\\_race & violation\\_raw & violation & search\\_conducted & search\\_type & stop\\_outcome & is\\_arrested & stop\\_duration & drugs\\_related\\_stop\\\\\n",
       "\t\\hline\n",
       "\t& Date & Time & Missing & String? & Float64? & Float64? & String? & String? & String? & Bool & String? & String? & Bool? & String? & Bool\\\\\n",
       "\t\\hline\n",
       "\t1 & 2005-01-02 & 01:55:00 & \\emph{missing} & M & 1985.0 & 20.0 & White & Speeding & Speeding & 0 & \\emph{missing} & Citation & 0 & 0-15 Min & 0 \\\\\n",
       "\t2 & 2005-01-18 & 08:15:00 & \\emph{missing} & M & 1965.0 & 40.0 & White & Speeding & Speeding & 0 & \\emph{missing} & Citation & 0 & 0-15 Min & 0 \\\\\n",
       "\t3 & 2005-01-23 & 23:15:00 & \\emph{missing} & M & 1972.0 & 33.0 & White & Speeding & Speeding & 0 & \\emph{missing} & Citation & 0 & 0-15 Min & 0 \\\\\n",
       "\t4 & 2005-02-20 & 17:15:00 & \\emph{missing} & M & 1986.0 & 19.0 & White & Call for Service & Other & 0 & \\emph{missing} & Arrest Driver & 1 & 16-30 Min & 0 \\\\\n",
       "\t5 & 2005-03-14 & 10:00:00 & \\emph{missing} & F & 1984.0 & 21.0 & White & Speeding & Speeding & 0 & \\emph{missing} & Citation & 0 & 0-15 Min & 0 \\\\\n",
       "\t6 & 2005-03-23 & 09:45:00 & \\emph{missing} & M & 1982.0 & 23.0 & Black & Equipment/Inspection Violation & Equipment & 0 & \\emph{missing} & Citation & 0 & 0-15 Min & 0 \\\\\n",
       "\t7 & 2005-04-01 & 17:30:00 & \\emph{missing} & M & 1969.0 & 36.0 & White & Speeding & Speeding & 0 & \\emph{missing} & Citation & 0 & 0-15 Min & 0 \\\\\n",
       "\t8 & 2005-06-06 & 13:20:00 & \\emph{missing} & F & 1986.0 & 19.0 & White & Speeding & Speeding & 0 & \\emph{missing} & Citation & 0 & 0-15 Min & 0 \\\\\n",
       "\t9 & 2005-07-13 & 10:15:00 & \\emph{missing} & M & 1970.0 & 35.0 & Black & Speeding & Speeding & 0 & \\emph{missing} & Citation & 0 & 0-15 Min & 0 \\\\\n",
       "\t10 & 2005-07-13 & 15:45:00 & \\emph{missing} & M & 1970.0 & 35.0 & White & Speeding & Speeding & 0 & \\emph{missing} & Citation & 0 & 0-15 Min & 0 \\\\\n",
       "\t11 & 2005-07-13 & 16:20:00 & \\emph{missing} & M & 1979.0 & 26.0 & Asian & Speeding & Speeding & 0 & \\emph{missing} & Citation & 0 & 0-15 Min & 0 \\\\\n",
       "\t12 & 2005-07-13 & 19:00:00 & \\emph{missing} & F & 1966.0 & 39.0 & White & Speeding & Speeding & 0 & \\emph{missing} & Citation & 0 & 0-15 Min & 0 \\\\\n",
       "\t13 & 2005-07-14 & 19:55:00 & \\emph{missing} & M & 1979.0 & 26.0 & White & Speeding & Speeding & 0 & \\emph{missing} & Citation & 0 & 0-15 Min & 0 \\\\\n",
       "\t14 & 2005-07-18 & 19:30:00 & \\emph{missing} & F & 1984.0 & 21.0 & White & Speeding & Speeding & 0 & \\emph{missing} & Citation & 0 & 0-15 Min & 0 \\\\\n",
       "\t15 & 2005-07-18 & 19:45:00 & \\emph{missing} & M & 1969.0 & 36.0 & White & Speeding & Speeding & 0 & \\emph{missing} & Citation & 0 & 0-15 Min & 0 \\\\\n",
       "\t$\\dots$ & $\\dots$ & $\\dots$ & $\\dots$ & $\\dots$ & $\\dots$ & $\\dots$ & $\\dots$ & $\\dots$ & $\\dots$ & $\\dots$ & $\\dots$ & $\\dots$ & $\\dots$ & $\\dots$ & $\\dots$ \\\\\n",
       "\\end{tabular}\n"
      ],
      "text/plain": [
       "\u001b[1m91741×15 DataFrame\u001b[0m\n",
       "\u001b[1m   Row \u001b[0m│\u001b[1m stop_date  \u001b[0m\u001b[1m stop_time \u001b[0m\u001b[1m county_name \u001b[0m\u001b[1m driver_gender \u001b[0m\u001b[1m driver_age_raw \u001b[0m\u001b[1m driver_age \u001b[0m\u001b[1m driver_race \u001b[0m\u001b[1m violation_raw                  \u001b[0m\u001b[1m violation        \u001b[0m\u001b[1m search_conducted \u001b[0m\u001b[1m search_type \u001b[0m\u001b[1m stop_outcome  \u001b[0m\u001b[1m is_arrested \u001b[0m\u001b[1m stop_duration \u001b[0m\u001b[1m drugs_related_stop \u001b[0m\n",
       "\u001b[1m       \u001b[0m│\u001b[90m Date       \u001b[0m\u001b[90m Time      \u001b[0m\u001b[90m Missing     \u001b[0m\u001b[90m String?       \u001b[0m\u001b[90m Float64?       \u001b[0m\u001b[90m Float64?   \u001b[0m\u001b[90m String?     \u001b[0m\u001b[90m String?                        \u001b[0m\u001b[90m String?          \u001b[0m\u001b[90m Bool             \u001b[0m\u001b[90m String?     \u001b[0m\u001b[90m String?       \u001b[0m\u001b[90m Bool?       \u001b[0m\u001b[90m String?       \u001b[0m\u001b[90m Bool               \u001b[0m\n",
       "───────┼────────────────────────────────────────────────────────────────────────────────────────────────────────────────────────────────────────────────────────────────────────────────────────────────────────────────────────────────────────────\n",
       "     1 │ 2005-01-02  01:55:00  \u001b[90m     missing \u001b[0m M                      1985.0        20.0  White        Speeding                        Speeding                     false \u001b[90m missing     \u001b[0m Citation             false  0-15 Min                    false\n",
       "     2 │ 2005-01-18  08:15:00  \u001b[90m     missing \u001b[0m M                      1965.0        40.0  White        Speeding                        Speeding                     false \u001b[90m missing     \u001b[0m Citation             false  0-15 Min                    false\n",
       "     3 │ 2005-01-23  23:15:00  \u001b[90m     missing \u001b[0m M                      1972.0        33.0  White        Speeding                        Speeding                     false \u001b[90m missing     \u001b[0m Citation             false  0-15 Min                    false\n",
       "   ⋮   │     ⋮           ⋮           ⋮             ⋮              ⋮             ⋮            ⋮                     ⋮                        ⋮                 ⋮               ⋮             ⋮             ⋮             ⋮                ⋮\n",
       " 91739 │ 2015-12-31  20:45:00  \u001b[90m     missing \u001b[0m M                      1992.0        23.0  White        Other Traffic Violation         Moving violation             false \u001b[90m missing     \u001b[0m Warning              false  0-15 Min                    false\n",
       " 91740 │ 2015-12-31  21:42:00  \u001b[90m     missing \u001b[0m M                      1993.0        22.0  White        Speeding                        Speeding                     false \u001b[90m missing     \u001b[0m Citation             false  0-15 Min                    false\n",
       " 91741 │ 2015-12-31  22:46:00  \u001b[90m     missing \u001b[0m M                      1959.0        56.0  Hispanic     Speeding                        Speeding                     false \u001b[90m missing     \u001b[0m Citation             false  0-15 Min                    false\n",
       "\u001b[36m                                                                                                                                                                                                                                  91735 rows omitted\u001b[0m"
      ]
     },
     "execution_count": 4,
     "metadata": {},
     "output_type": "execute_result"
    }
   ],
   "source": [
    "# ri = pd.read_csv('police.csv')\n",
    "ri = CSV.read(\"police.csv\", DataFrame)"
   ]
  },
  {
   "cell_type": "markdown",
   "metadata": {},
   "source": [
    "Note that `DataFrame` is one of the many possible tabular data formats in Julia. We could have e.g. read it in just as a `NamedTuple` (the display will not be as nice though)."
   ]
  },
  {
   "cell_type": "code",
   "execution_count": 5,
   "metadata": {},
   "outputs": [
    {
     "data": {
      "text/plain": [
       "(stop_date = [Date(\"2005-01-02\"), Date(\"2005-01-18\"), Date(\"2005-01-23\"), Date(\"2005-02-20\"), Date(\"2005-03-14\"), Date(\"2005-03-23\"), Date(\"2005-04-01\"), Date(\"2005-06-06\"), Date(\"2005-07-13\"), Date(\"2005-07-13\")  …  Date(\"2015-12-31\"), Date(\"2015-12-31\"), Date(\"2015-12-31\"), Date(\"2015-12-31\"), Date(\"2015-12-31\"), Date(\"2015-12-31\"), Date(\"2015-12-31\"), Date(\"2015-12-31\"), Date(\"2015-12-31\"), Date(\"2015-12-31\")], stop_time = Time[Time(1, 55), Time(8, 15), Time(23, 15), Time(17, 15), Time(10), Time(9, 45), Time(17, 30), Time(13, 20), Time(10, 15), Time(15, 45)  …  Time(16, 38), Time(19, 44), Time(19, 55), Time(20, 20), Time(20, 25), Time(20, 27), Time(20, 35), Time(20, 45), Time(21, 42), Time(22, 46)], county_name = [missing, missing, missing, missing, missing, missing, missing, missing, missing, missing  …  missing, missing, missing, missing, missing, missing, missing, missing, missing, missing], driver_gender = Union{Missing, String}[\"M\", \"M\", \"M\", \"M\", \"F\", \"M\", \"M\", \"F\", \"M\", \"M\"  …  \"F\", \"F\", \"F\", \"M\", \"M\", \"M\", \"F\", \"M\", \"M\", \"M\"], driver_age_raw = Union{Missing, Float64}[1985.0, 1965.0, 1972.0, 1986.0, 1984.0, 1982.0, 1969.0, 1986.0, 1970.0, 1970.0  …  1988.0, 1969.0, 1974.0, 1993.0, 1992.0, 1986.0, 1982.0, 1992.0, 1993.0, 1959.0], driver_age = Union{Missing, Float64}[20.0, 40.0, 33.0, 19.0, 21.0, 23.0, 36.0, 19.0, 35.0, 35.0  …  27.0, 46.0, 41.0, 22.0, 23.0, 29.0, 33.0, 23.0, 22.0, 56.0], driver_race = Union{Missing, String}[\"White\", \"White\", \"White\", \"White\", \"White\", \"Black\", \"White\", \"White\", \"Black\", \"White\"  …  \"White\", \"White\", \"White\", \"White\", \"Hispanic\", \"White\", \"White\", \"White\", \"White\", \"Hispanic\"], violation_raw = Union{Missing, String}[\"Speeding\", \"Speeding\", \"Speeding\", \"Call for Service\", \"Speeding\", \"Equipment/Inspection Violation\", \"Speeding\", \"Speeding\", \"Speeding\", \"Speeding\"  …  \"Speeding\", \"Speeding\", \"Registration Violation\", \"Speeding\", \"Speeding\", \"Speeding\", \"Equipment/Inspection Violation\", \"Other Traffic Violation\", \"Speeding\", \"Speeding\"], violation = Union{Missing, String}[\"Speeding\", \"Speeding\", \"Speeding\", \"Other\", \"Speeding\", \"Equipment\", \"Speeding\", \"Speeding\", \"Speeding\", \"Speeding\"  …  \"Speeding\", \"Speeding\", \"Registration/plates\", \"Speeding\", \"Speeding\", \"Speeding\", \"Equipment\", \"Moving violation\", \"Speeding\", \"Speeding\"], search_conducted = Bool[0, 0, 0, 0, 0, 0, 0, 0, 0, 0  …  0, 0, 0, 0, 0, 0, 0, 0, 0, 0], search_type = Union{Missing, String}[missing, missing, missing, missing, missing, missing, missing, missing, missing, missing  …  missing, missing, missing, missing, missing, missing, missing, missing, missing, missing], stop_outcome = Union{Missing, String}[\"Citation\", \"Citation\", \"Citation\", \"Arrest Driver\", \"Citation\", \"Citation\", \"Citation\", \"Citation\", \"Citation\", \"Citation\"  …  \"Citation\", \"Warning\", \"Citation\", \"Citation\", \"Citation\", \"Warning\", \"Warning\", \"Warning\", \"Citation\", \"Citation\"], is_arrested = Union{Missing, Bool}[false, false, false, true, false, false, false, false, false, false  …  false, false, false, false, false, false, false, false, false, false], stop_duration = Union{Missing, String}[\"0-15 Min\", \"0-15 Min\", \"0-15 Min\", \"16-30 Min\", \"0-15 Min\", \"0-15 Min\", \"0-15 Min\", \"0-15 Min\", \"0-15 Min\", \"0-15 Min\"  …  \"0-15 Min\", \"0-15 Min\", \"0-15 Min\", \"0-15 Min\", \"0-15 Min\", \"0-15 Min\", \"0-15 Min\", \"0-15 Min\", \"0-15 Min\", \"0-15 Min\"], drugs_related_stop = Bool[0, 0, 0, 0, 0, 0, 0, 0, 0, 0  …  0, 0, 0, 0, 0, 0, 0, 0, 0, 0])"
      ]
     },
     "execution_count": 5,
     "metadata": {},
     "output_type": "execute_result"
    }
   ],
   "source": [
    "CSV.read(\"police.csv\", NamedTuple)"
   ]
  },
  {
   "cell_type": "markdown",
   "metadata": {},
   "source": [
    "Start with doing some basic inspection of the data"
   ]
  },
  {
   "cell_type": "code",
   "execution_count": 6,
   "metadata": {},
   "outputs": [
    {
     "data": {
      "text/html": [
       "<div class=\"data-frame\"><p>5 rows × 15 columns</p><table class=\"data-frame\"><thead><tr><th></th><th>stop_date</th><th>stop_time</th><th>county_name</th><th>driver_gender</th><th>driver_age_raw</th><th>driver_age</th><th>driver_race</th><th>violation_raw</th><th>violation</th><th>search_conducted</th><th>search_type</th><th>stop_outcome</th><th>is_arrested</th><th>stop_duration</th><th>drugs_related_stop</th></tr><tr><th></th><th title=\"Date\">Date</th><th title=\"Time\">Time</th><th title=\"Missing\">Missing</th><th title=\"Union{Missing, String}\">String?</th><th title=\"Union{Missing, Float64}\">Float64?</th><th title=\"Union{Missing, Float64}\">Float64?</th><th title=\"Union{Missing, String}\">String?</th><th title=\"Union{Missing, String}\">String?</th><th title=\"Union{Missing, String}\">String?</th><th title=\"Bool\">Bool</th><th title=\"Union{Missing, String}\">String?</th><th title=\"Union{Missing, String}\">String?</th><th title=\"Union{Missing, Bool}\">Bool?</th><th title=\"Union{Missing, String}\">String?</th><th title=\"Bool\">Bool</th></tr></thead><tbody><tr><th>1</th><td>2005-01-02</td><td>01:55:00</td><td><em>missing</em></td><td>M</td><td>1985.0</td><td>20.0</td><td>White</td><td>Speeding</td><td>Speeding</td><td>0</td><td><em>missing</em></td><td>Citation</td><td>0</td><td>0-15 Min</td><td>0</td></tr><tr><th>2</th><td>2005-01-18</td><td>08:15:00</td><td><em>missing</em></td><td>M</td><td>1965.0</td><td>40.0</td><td>White</td><td>Speeding</td><td>Speeding</td><td>0</td><td><em>missing</em></td><td>Citation</td><td>0</td><td>0-15 Min</td><td>0</td></tr><tr><th>3</th><td>2005-01-23</td><td>23:15:00</td><td><em>missing</em></td><td>M</td><td>1972.0</td><td>33.0</td><td>White</td><td>Speeding</td><td>Speeding</td><td>0</td><td><em>missing</em></td><td>Citation</td><td>0</td><td>0-15 Min</td><td>0</td></tr><tr><th>4</th><td>2005-02-20</td><td>17:15:00</td><td><em>missing</em></td><td>M</td><td>1986.0</td><td>19.0</td><td>White</td><td>Call for Service</td><td>Other</td><td>0</td><td><em>missing</em></td><td>Arrest Driver</td><td>1</td><td>16-30 Min</td><td>0</td></tr><tr><th>5</th><td>2005-03-14</td><td>10:00:00</td><td><em>missing</em></td><td>F</td><td>1984.0</td><td>21.0</td><td>White</td><td>Speeding</td><td>Speeding</td><td>0</td><td><em>missing</em></td><td>Citation</td><td>0</td><td>0-15 Min</td><td>0</td></tr></tbody></table></div>"
      ],
      "text/latex": [
       "\\begin{tabular}{r|ccccccccccccccc}\n",
       "\t& stop\\_date & stop\\_time & county\\_name & driver\\_gender & driver\\_age\\_raw & driver\\_age & driver\\_race & violation\\_raw & violation & search\\_conducted & search\\_type & stop\\_outcome & is\\_arrested & stop\\_duration & drugs\\_related\\_stop\\\\\n",
       "\t\\hline\n",
       "\t& Date & Time & Missing & String? & Float64? & Float64? & String? & String? & String? & Bool & String? & String? & Bool? & String? & Bool\\\\\n",
       "\t\\hline\n",
       "\t1 & 2005-01-02 & 01:55:00 & \\emph{missing} & M & 1985.0 & 20.0 & White & Speeding & Speeding & 0 & \\emph{missing} & Citation & 0 & 0-15 Min & 0 \\\\\n",
       "\t2 & 2005-01-18 & 08:15:00 & \\emph{missing} & M & 1965.0 & 40.0 & White & Speeding & Speeding & 0 & \\emph{missing} & Citation & 0 & 0-15 Min & 0 \\\\\n",
       "\t3 & 2005-01-23 & 23:15:00 & \\emph{missing} & M & 1972.0 & 33.0 & White & Speeding & Speeding & 0 & \\emph{missing} & Citation & 0 & 0-15 Min & 0 \\\\\n",
       "\t4 & 2005-02-20 & 17:15:00 & \\emph{missing} & M & 1986.0 & 19.0 & White & Call for Service & Other & 0 & \\emph{missing} & Arrest Driver & 1 & 16-30 Min & 0 \\\\\n",
       "\t5 & 2005-03-14 & 10:00:00 & \\emph{missing} & F & 1984.0 & 21.0 & White & Speeding & Speeding & 0 & \\emph{missing} & Citation & 0 & 0-15 Min & 0 \\\\\n",
       "\\end{tabular}\n"
      ],
      "text/plain": [
       "\u001b[1m5×15 DataFrame\u001b[0m\n",
       "\u001b[1m Row \u001b[0m│\u001b[1m stop_date  \u001b[0m\u001b[1m stop_time \u001b[0m\u001b[1m county_name \u001b[0m\u001b[1m driver_gender \u001b[0m\u001b[1m driver_age_raw \u001b[0m\u001b[1m driver_age \u001b[0m\u001b[1m driver_race \u001b[0m\u001b[1m violation_raw    \u001b[0m\u001b[1m violation \u001b[0m\u001b[1m search_conducted \u001b[0m\u001b[1m search_type \u001b[0m\u001b[1m stop_outcome  \u001b[0m\u001b[1m is_arrested \u001b[0m\u001b[1m stop_duration \u001b[0m\u001b[1m drugs_related_stop \u001b[0m\n",
       "\u001b[1m     \u001b[0m│\u001b[90m Date       \u001b[0m\u001b[90m Time      \u001b[0m\u001b[90m Missing     \u001b[0m\u001b[90m String?       \u001b[0m\u001b[90m Float64?       \u001b[0m\u001b[90m Float64?   \u001b[0m\u001b[90m String?     \u001b[0m\u001b[90m String?          \u001b[0m\u001b[90m String?   \u001b[0m\u001b[90m Bool             \u001b[0m\u001b[90m String?     \u001b[0m\u001b[90m String?       \u001b[0m\u001b[90m Bool?       \u001b[0m\u001b[90m String?       \u001b[0m\u001b[90m Bool               \u001b[0m\n",
       "─────┼───────────────────────────────────────────────────────────────────────────────────────────────────────────────────────────────────────────────────────────────────────────────────────────────────────────────────────\n",
       "   1 │ 2005-01-02  01:55:00  \u001b[90m     missing \u001b[0m M                      1985.0        20.0  White        Speeding          Speeding              false \u001b[90m missing     \u001b[0m Citation             false  0-15 Min                    false\n",
       "   2 │ 2005-01-18  08:15:00  \u001b[90m     missing \u001b[0m M                      1965.0        40.0  White        Speeding          Speeding              false \u001b[90m missing     \u001b[0m Citation             false  0-15 Min                    false\n",
       "   3 │ 2005-01-23  23:15:00  \u001b[90m     missing \u001b[0m M                      1972.0        33.0  White        Speeding          Speeding              false \u001b[90m missing     \u001b[0m Citation             false  0-15 Min                    false\n",
       "   4 │ 2005-02-20  17:15:00  \u001b[90m     missing \u001b[0m M                      1986.0        19.0  White        Call for Service  Other                 false \u001b[90m missing     \u001b[0m Arrest Driver         true  16-30 Min                   false\n",
       "   5 │ 2005-03-14  10:00:00  \u001b[90m     missing \u001b[0m F                      1984.0        21.0  White        Speeding          Speeding              false \u001b[90m missing     \u001b[0m Citation             false  0-15 Min                    false"
      ]
     },
     "execution_count": 6,
     "metadata": {},
     "output_type": "execute_result"
    }
   ],
   "source": [
    "# ri.head()\n",
    "first(ri, 5)"
   ]
  },
  {
   "cell_type": "code",
   "execution_count": 7,
   "metadata": {},
   "outputs": [
    {
     "data": {
      "text/plain": [
       "(91741, 15)"
      ]
     },
     "execution_count": 7,
     "metadata": {},
     "output_type": "execute_result"
    }
   ],
   "source": [
    "# ri.shape()\n",
    "size(ri)"
   ]
  },
  {
   "cell_type": "code",
   "execution_count": 8,
   "metadata": {},
   "outputs": [
    {
     "data": {
      "text/html": [
       "<div class=\"data-frame\"><p>15 rows × 3 columns</p><table class=\"data-frame\"><thead><tr><th></th><th>variable</th><th>eltype</th><th>nmissing</th></tr><tr><th></th><th title=\"Symbol\">Symbol</th><th title=\"Type\">Type</th><th title=\"Int64\">Int64</th></tr></thead><tbody><tr><th>1</th><td>stop_date</td><td>Date</td><td>0</td></tr><tr><th>2</th><td>stop_time</td><td>Time</td><td>0</td></tr><tr><th>3</th><td>county_name</td><td>Missing</td><td>91741</td></tr><tr><th>4</th><td>driver_gender</td><td>Union{Missing, String}</td><td>5335</td></tr><tr><th>5</th><td>driver_age_raw</td><td>Union{Missing, Float64}</td><td>5327</td></tr><tr><th>6</th><td>driver_age</td><td>Union{Missing, Float64}</td><td>5621</td></tr><tr><th>7</th><td>driver_race</td><td>Union{Missing, String}</td><td>5333</td></tr><tr><th>8</th><td>violation_raw</td><td>Union{Missing, String}</td><td>5333</td></tr><tr><th>9</th><td>violation</td><td>Union{Missing, String}</td><td>5333</td></tr><tr><th>10</th><td>search_conducted</td><td>Bool</td><td>0</td></tr><tr><th>11</th><td>search_type</td><td>Union{Missing, String}</td><td>88545</td></tr><tr><th>12</th><td>stop_outcome</td><td>Union{Missing, String}</td><td>5333</td></tr><tr><th>13</th><td>is_arrested</td><td>Union{Missing, Bool}</td><td>5333</td></tr><tr><th>14</th><td>stop_duration</td><td>Union{Missing, String}</td><td>5333</td></tr><tr><th>15</th><td>drugs_related_stop</td><td>Bool</td><td>0</td></tr></tbody></table></div>"
      ],
      "text/latex": [
       "\\begin{tabular}{r|ccc}\n",
       "\t& variable & eltype & nmissing\\\\\n",
       "\t\\hline\n",
       "\t& Symbol & Type & Int64\\\\\n",
       "\t\\hline\n",
       "\t1 & stop\\_date & Date & 0 \\\\\n",
       "\t2 & stop\\_time & Time & 0 \\\\\n",
       "\t3 & county\\_name & Missing & 91741 \\\\\n",
       "\t4 & driver\\_gender & Union\\{Missing, String\\} & 5335 \\\\\n",
       "\t5 & driver\\_age\\_raw & Union\\{Missing, Float64\\} & 5327 \\\\\n",
       "\t6 & driver\\_age & Union\\{Missing, Float64\\} & 5621 \\\\\n",
       "\t7 & driver\\_race & Union\\{Missing, String\\} & 5333 \\\\\n",
       "\t8 & violation\\_raw & Union\\{Missing, String\\} & 5333 \\\\\n",
       "\t9 & violation & Union\\{Missing, String\\} & 5333 \\\\\n",
       "\t10 & search\\_conducted & Bool & 0 \\\\\n",
       "\t11 & search\\_type & Union\\{Missing, String\\} & 88545 \\\\\n",
       "\t12 & stop\\_outcome & Union\\{Missing, String\\} & 5333 \\\\\n",
       "\t13 & is\\_arrested & Union\\{Missing, Bool\\} & 5333 \\\\\n",
       "\t14 & stop\\_duration & Union\\{Missing, String\\} & 5333 \\\\\n",
       "\t15 & drugs\\_related\\_stop & Bool & 0 \\\\\n",
       "\\end{tabular}\n"
      ],
      "text/plain": [
       "\u001b[1m15×3 DataFrame\u001b[0m\n",
       "\u001b[1m Row \u001b[0m│\u001b[1m variable           \u001b[0m\u001b[1m eltype                  \u001b[0m\u001b[1m nmissing \u001b[0m\n",
       "\u001b[1m     \u001b[0m│\u001b[90m Symbol             \u001b[0m\u001b[90m Type                    \u001b[0m\u001b[90m Int64    \u001b[0m\n",
       "─────┼───────────────────────────────────────────────────────\n",
       "   1 │ stop_date           Date                            0\n",
       "   2 │ stop_time           Time                            0\n",
       "   3 │ county_name         Missing                     91741\n",
       "  ⋮  │         ⋮                      ⋮                ⋮\n",
       "  13 │ is_arrested         Union{Missing, Bool}         5333\n",
       "  14 │ stop_duration       Union{Missing, String}       5333\n",
       "  15 │ drugs_related_stop  Bool                            0\n",
       "\u001b[36m                                               9 rows omitted\u001b[0m"
      ]
     },
     "execution_count": 8,
     "metadata": {},
     "output_type": "execute_result"
    }
   ],
   "source": [
    "# ri.dtypes\n",
    "# ri.isnull().sum()\n",
    "describe(ri, :eltype, :nmissing)"
   ]
  },
  {
   "cell_type": "markdown",
   "metadata": {},
   "source": [
    "Remove `\"county_name\"` column from `ri` in place"
   ]
  },
  {
   "cell_type": "code",
   "execution_count": 9,
   "metadata": {
    "scrolled": true
   },
   "outputs": [
    {
     "data": {
      "text/html": [
       "<div class=\"data-frame\"><p>91,741 rows × 14 columns</p><table class=\"data-frame\"><thead><tr><th></th><th>stop_date</th><th>stop_time</th><th>driver_gender</th><th>driver_age_raw</th><th>driver_age</th><th>driver_race</th><th>violation_raw</th><th>violation</th><th>search_conducted</th><th>search_type</th><th>stop_outcome</th><th>is_arrested</th><th>stop_duration</th><th>drugs_related_stop</th></tr><tr><th></th><th title=\"Date\">Date</th><th title=\"Time\">Time</th><th title=\"Union{Missing, String}\">String?</th><th title=\"Union{Missing, Float64}\">Float64?</th><th title=\"Union{Missing, Float64}\">Float64?</th><th title=\"Union{Missing, String}\">String?</th><th title=\"Union{Missing, String}\">String?</th><th title=\"Union{Missing, String}\">String?</th><th title=\"Bool\">Bool</th><th title=\"Union{Missing, String}\">String?</th><th title=\"Union{Missing, String}\">String?</th><th title=\"Union{Missing, Bool}\">Bool?</th><th title=\"Union{Missing, String}\">String?</th><th title=\"Bool\">Bool</th></tr></thead><tbody><tr><th>1</th><td>2005-01-02</td><td>01:55:00</td><td>M</td><td>1985.0</td><td>20.0</td><td>White</td><td>Speeding</td><td>Speeding</td><td>0</td><td><em>missing</em></td><td>Citation</td><td>0</td><td>0-15 Min</td><td>0</td></tr><tr><th>2</th><td>2005-01-18</td><td>08:15:00</td><td>M</td><td>1965.0</td><td>40.0</td><td>White</td><td>Speeding</td><td>Speeding</td><td>0</td><td><em>missing</em></td><td>Citation</td><td>0</td><td>0-15 Min</td><td>0</td></tr><tr><th>3</th><td>2005-01-23</td><td>23:15:00</td><td>M</td><td>1972.0</td><td>33.0</td><td>White</td><td>Speeding</td><td>Speeding</td><td>0</td><td><em>missing</em></td><td>Citation</td><td>0</td><td>0-15 Min</td><td>0</td></tr><tr><th>4</th><td>2005-02-20</td><td>17:15:00</td><td>M</td><td>1986.0</td><td>19.0</td><td>White</td><td>Call for Service</td><td>Other</td><td>0</td><td><em>missing</em></td><td>Arrest Driver</td><td>1</td><td>16-30 Min</td><td>0</td></tr><tr><th>5</th><td>2005-03-14</td><td>10:00:00</td><td>F</td><td>1984.0</td><td>21.0</td><td>White</td><td>Speeding</td><td>Speeding</td><td>0</td><td><em>missing</em></td><td>Citation</td><td>0</td><td>0-15 Min</td><td>0</td></tr><tr><th>6</th><td>2005-03-23</td><td>09:45:00</td><td>M</td><td>1982.0</td><td>23.0</td><td>Black</td><td>Equipment/Inspection Violation</td><td>Equipment</td><td>0</td><td><em>missing</em></td><td>Citation</td><td>0</td><td>0-15 Min</td><td>0</td></tr><tr><th>7</th><td>2005-04-01</td><td>17:30:00</td><td>M</td><td>1969.0</td><td>36.0</td><td>White</td><td>Speeding</td><td>Speeding</td><td>0</td><td><em>missing</em></td><td>Citation</td><td>0</td><td>0-15 Min</td><td>0</td></tr><tr><th>8</th><td>2005-06-06</td><td>13:20:00</td><td>F</td><td>1986.0</td><td>19.0</td><td>White</td><td>Speeding</td><td>Speeding</td><td>0</td><td><em>missing</em></td><td>Citation</td><td>0</td><td>0-15 Min</td><td>0</td></tr><tr><th>9</th><td>2005-07-13</td><td>10:15:00</td><td>M</td><td>1970.0</td><td>35.0</td><td>Black</td><td>Speeding</td><td>Speeding</td><td>0</td><td><em>missing</em></td><td>Citation</td><td>0</td><td>0-15 Min</td><td>0</td></tr><tr><th>10</th><td>2005-07-13</td><td>15:45:00</td><td>M</td><td>1970.0</td><td>35.0</td><td>White</td><td>Speeding</td><td>Speeding</td><td>0</td><td><em>missing</em></td><td>Citation</td><td>0</td><td>0-15 Min</td><td>0</td></tr><tr><th>11</th><td>2005-07-13</td><td>16:20:00</td><td>M</td><td>1979.0</td><td>26.0</td><td>Asian</td><td>Speeding</td><td>Speeding</td><td>0</td><td><em>missing</em></td><td>Citation</td><td>0</td><td>0-15 Min</td><td>0</td></tr><tr><th>12</th><td>2005-07-13</td><td>19:00:00</td><td>F</td><td>1966.0</td><td>39.0</td><td>White</td><td>Speeding</td><td>Speeding</td><td>0</td><td><em>missing</em></td><td>Citation</td><td>0</td><td>0-15 Min</td><td>0</td></tr><tr><th>13</th><td>2005-07-14</td><td>19:55:00</td><td>M</td><td>1979.0</td><td>26.0</td><td>White</td><td>Speeding</td><td>Speeding</td><td>0</td><td><em>missing</em></td><td>Citation</td><td>0</td><td>0-15 Min</td><td>0</td></tr><tr><th>14</th><td>2005-07-18</td><td>19:30:00</td><td>F</td><td>1984.0</td><td>21.0</td><td>White</td><td>Speeding</td><td>Speeding</td><td>0</td><td><em>missing</em></td><td>Citation</td><td>0</td><td>0-15 Min</td><td>0</td></tr><tr><th>15</th><td>2005-07-18</td><td>19:45:00</td><td>M</td><td>1969.0</td><td>36.0</td><td>White</td><td>Speeding</td><td>Speeding</td><td>0</td><td><em>missing</em></td><td>Citation</td><td>0</td><td>0-15 Min</td><td>0</td></tr><tr><th>&vellip;</th><td>&vellip;</td><td>&vellip;</td><td>&vellip;</td><td>&vellip;</td><td>&vellip;</td><td>&vellip;</td><td>&vellip;</td><td>&vellip;</td><td>&vellip;</td><td>&vellip;</td><td>&vellip;</td><td>&vellip;</td><td>&vellip;</td><td>&vellip;</td></tr></tbody></table></div>"
      ],
      "text/latex": [
       "\\begin{tabular}{r|cccccccccccccc}\n",
       "\t& stop\\_date & stop\\_time & driver\\_gender & driver\\_age\\_raw & driver\\_age & driver\\_race & violation\\_raw & violation & search\\_conducted & search\\_type & stop\\_outcome & is\\_arrested & stop\\_duration & drugs\\_related\\_stop\\\\\n",
       "\t\\hline\n",
       "\t& Date & Time & String? & Float64? & Float64? & String? & String? & String? & Bool & String? & String? & Bool? & String? & Bool\\\\\n",
       "\t\\hline\n",
       "\t1 & 2005-01-02 & 01:55:00 & M & 1985.0 & 20.0 & White & Speeding & Speeding & 0 & \\emph{missing} & Citation & 0 & 0-15 Min & 0 \\\\\n",
       "\t2 & 2005-01-18 & 08:15:00 & M & 1965.0 & 40.0 & White & Speeding & Speeding & 0 & \\emph{missing} & Citation & 0 & 0-15 Min & 0 \\\\\n",
       "\t3 & 2005-01-23 & 23:15:00 & M & 1972.0 & 33.0 & White & Speeding & Speeding & 0 & \\emph{missing} & Citation & 0 & 0-15 Min & 0 \\\\\n",
       "\t4 & 2005-02-20 & 17:15:00 & M & 1986.0 & 19.0 & White & Call for Service & Other & 0 & \\emph{missing} & Arrest Driver & 1 & 16-30 Min & 0 \\\\\n",
       "\t5 & 2005-03-14 & 10:00:00 & F & 1984.0 & 21.0 & White & Speeding & Speeding & 0 & \\emph{missing} & Citation & 0 & 0-15 Min & 0 \\\\\n",
       "\t6 & 2005-03-23 & 09:45:00 & M & 1982.0 & 23.0 & Black & Equipment/Inspection Violation & Equipment & 0 & \\emph{missing} & Citation & 0 & 0-15 Min & 0 \\\\\n",
       "\t7 & 2005-04-01 & 17:30:00 & M & 1969.0 & 36.0 & White & Speeding & Speeding & 0 & \\emph{missing} & Citation & 0 & 0-15 Min & 0 \\\\\n",
       "\t8 & 2005-06-06 & 13:20:00 & F & 1986.0 & 19.0 & White & Speeding & Speeding & 0 & \\emph{missing} & Citation & 0 & 0-15 Min & 0 \\\\\n",
       "\t9 & 2005-07-13 & 10:15:00 & M & 1970.0 & 35.0 & Black & Speeding & Speeding & 0 & \\emph{missing} & Citation & 0 & 0-15 Min & 0 \\\\\n",
       "\t10 & 2005-07-13 & 15:45:00 & M & 1970.0 & 35.0 & White & Speeding & Speeding & 0 & \\emph{missing} & Citation & 0 & 0-15 Min & 0 \\\\\n",
       "\t11 & 2005-07-13 & 16:20:00 & M & 1979.0 & 26.0 & Asian & Speeding & Speeding & 0 & \\emph{missing} & Citation & 0 & 0-15 Min & 0 \\\\\n",
       "\t12 & 2005-07-13 & 19:00:00 & F & 1966.0 & 39.0 & White & Speeding & Speeding & 0 & \\emph{missing} & Citation & 0 & 0-15 Min & 0 \\\\\n",
       "\t13 & 2005-07-14 & 19:55:00 & M & 1979.0 & 26.0 & White & Speeding & Speeding & 0 & \\emph{missing} & Citation & 0 & 0-15 Min & 0 \\\\\n",
       "\t14 & 2005-07-18 & 19:30:00 & F & 1984.0 & 21.0 & White & Speeding & Speeding & 0 & \\emph{missing} & Citation & 0 & 0-15 Min & 0 \\\\\n",
       "\t15 & 2005-07-18 & 19:45:00 & M & 1969.0 & 36.0 & White & Speeding & Speeding & 0 & \\emph{missing} & Citation & 0 & 0-15 Min & 0 \\\\\n",
       "\t$\\dots$ & $\\dots$ & $\\dots$ & $\\dots$ & $\\dots$ & $\\dots$ & $\\dots$ & $\\dots$ & $\\dots$ & $\\dots$ & $\\dots$ & $\\dots$ & $\\dots$ & $\\dots$ & $\\dots$ \\\\\n",
       "\\end{tabular}\n"
      ],
      "text/plain": [
       "\u001b[1m91741×14 DataFrame\u001b[0m\n",
       "\u001b[1m   Row \u001b[0m│\u001b[1m stop_date  \u001b[0m\u001b[1m stop_time \u001b[0m\u001b[1m driver_gender \u001b[0m\u001b[1m driver_age_raw \u001b[0m\u001b[1m driver_age \u001b[0m\u001b[1m driver_race \u001b[0m\u001b[1m violation_raw                  \u001b[0m\u001b[1m violation        \u001b[0m\u001b[1m search_conducted \u001b[0m\u001b[1m search_type \u001b[0m\u001b[1m stop_outcome  \u001b[0m\u001b[1m is_arrested \u001b[0m\u001b[1m stop_duration \u001b[0m\u001b[1m drugs_related_stop \u001b[0m\n",
       "\u001b[1m       \u001b[0m│\u001b[90m Date       \u001b[0m\u001b[90m Time      \u001b[0m\u001b[90m String?       \u001b[0m\u001b[90m Float64?       \u001b[0m\u001b[90m Float64?   \u001b[0m\u001b[90m String?     \u001b[0m\u001b[90m String?                        \u001b[0m\u001b[90m String?          \u001b[0m\u001b[90m Bool             \u001b[0m\u001b[90m String?     \u001b[0m\u001b[90m String?       \u001b[0m\u001b[90m Bool?       \u001b[0m\u001b[90m String?       \u001b[0m\u001b[90m Bool               \u001b[0m\n",
       "───────┼───────────────────────────────────────────────────────────────────────────────────────────────────────────────────────────────────────────────────────────────────────────────────────────────────────────────────────────────\n",
       "     1 │ 2005-01-02  01:55:00   M                      1985.0        20.0  White        Speeding                        Speeding                     false \u001b[90m missing     \u001b[0m Citation             false  0-15 Min                    false\n",
       "     2 │ 2005-01-18  08:15:00   M                      1965.0        40.0  White        Speeding                        Speeding                     false \u001b[90m missing     \u001b[0m Citation             false  0-15 Min                    false\n",
       "     3 │ 2005-01-23  23:15:00   M                      1972.0        33.0  White        Speeding                        Speeding                     false \u001b[90m missing     \u001b[0m Citation             false  0-15 Min                    false\n",
       "   ⋮   │     ⋮           ⋮            ⋮              ⋮             ⋮            ⋮                     ⋮                        ⋮                 ⋮               ⋮             ⋮             ⋮             ⋮                ⋮\n",
       " 91739 │ 2015-12-31  20:45:00   M                      1992.0        23.0  White        Other Traffic Violation         Moving violation             false \u001b[90m missing     \u001b[0m Warning              false  0-15 Min                    false\n",
       " 91740 │ 2015-12-31  21:42:00   M                      1993.0        22.0  White        Speeding                        Speeding                     false \u001b[90m missing     \u001b[0m Citation             false  0-15 Min                    false\n",
       " 91741 │ 2015-12-31  22:46:00   M                      1959.0        56.0  Hispanic     Speeding                        Speeding                     false \u001b[90m missing     \u001b[0m Citation             false  0-15 Min                    false\n",
       "\u001b[36m                                                                                                                                                                                                                     91735 rows omitted\u001b[0m"
      ]
     },
     "execution_count": 9,
     "metadata": {},
     "output_type": "execute_result"
    }
   ],
   "source": [
    "# ri.drop('county_name', axis='columns', inplace=True)\n",
    "select!(ri, Not(\"county_name\"))"
   ]
  },
  {
   "cell_type": "markdown",
   "metadata": {},
   "source": [
    "DataFrames.jl provides the following basic functions for working with data frames:\n",
    "\n",
    "* `select`: create a new data frame with some columns from the source (possibly transformed)\n",
    "* `select!`: the same, but in-place\n",
    "* `transform`: create a new data frame keeping all columns from the source and adding some new ones\n",
    "* `transform!`: the same, but in-place\n",
    "* `combine`: aggregate (combine rows) the source\n",
    "* `filter` and `subset`: select rows from the source\n",
    "* `filter!` and `subset!`: the same, but in-place\n",
    "* `sort`: sort a data frame\n",
    "* `sort!`: the same but in-place\n",
    "* `innerjoin`, `leftjoin`, `rightjoin`, `outerjoin`, `semijoin`, `antijoin`, `crossjoin`: joins\n",
    "* `stack`/`unstack`: conversions between wide and long formats of storing data\n",
    "* `groupby`: add an index to a data frame (group it by some columns)\n",
    "\n",
    "(there are more, but these are the most commonly used)"
   ]
  },
  {
   "cell_type": "markdown",
   "metadata": {},
   "source": [
    "Get column names of our data frame"
   ]
  },
  {
   "cell_type": "code",
   "execution_count": 10,
   "metadata": {},
   "outputs": [
    {
     "data": {
      "text/plain": [
       "14-element Vector{String}:\n",
       " \"stop_date\"\n",
       " \"stop_time\"\n",
       " \"driver_gender\"\n",
       " \"driver_age_raw\"\n",
       " \"driver_age\"\n",
       " ⋮\n",
       " \"search_type\"\n",
       " \"stop_outcome\"\n",
       " \"is_arrested\"\n",
       " \"stop_duration\"\n",
       " \"drugs_related_stop\""
      ]
     },
     "execution_count": 10,
     "metadata": {},
     "output_type": "execute_result"
    }
   ],
   "source": [
    "# ri.columns\n",
    "names(ri)"
   ]
  },
  {
   "cell_type": "markdown",
   "metadata": {},
   "source": [
    "Find the distribution of gender of speeding drivers:"
   ]
  },
  {
   "cell_type": "code",
   "execution_count": 11,
   "metadata": {},
   "outputs": [
    {
     "data": {
      "text/plain": [
       "3-element Named Vector{Float64}\n",
       "Dim1    │ \n",
       "────────┼───────────\n",
       "F       │    0.31946\n",
       "M       │   0.680499\n",
       "missing │ 4.12686e-5"
      ]
     },
     "execution_count": 11,
     "metadata": {},
     "output_type": "execute_result"
    }
   ],
   "source": [
    "# ri[ri.violation == 'Speeding'].driver_gender.value_counts(normalize=True)\n",
    "ri[isequal.(ri.violation, \"Speeding\"), \"driver_gender\"] |> proptable"
   ]
  },
  {
   "cell_type": "markdown",
   "metadata": {},
   "source": [
    "Note that `|>` is chaining function calls"
   ]
  },
  {
   "cell_type": "markdown",
   "metadata": {},
   "source": [
    "We could have also just done a cross-tabulation"
   ]
  },
  {
   "cell_type": "code",
   "execution_count": 12,
   "metadata": {},
   "outputs": [
    {
     "data": {
      "text/plain": [
       "7×3 Named Matrix{Int64}\n",
       "violation ╲ driver_gender │       F        M  missing\n",
       "──────────────────────────┼──────────────────────────\n",
       "Equipment                 │    2487     8533        0\n",
       "Moving violation          │    3204    13020        0\n",
       "Other                     │     690     3627        0\n",
       "Registration/plates       │    1013     2419        0\n",
       "Seat belt                 │     635     2317        0\n",
       "Speeding                  │   15482    32979        2\n",
       "missing                   │       0        0     5333"
      ]
     },
     "execution_count": 12,
     "metadata": {},
     "output_type": "execute_result"
    }
   ],
   "source": [
    "freqtable(ri, :violation, :driver_gender)"
   ]
  },
  {
   "cell_type": "markdown",
   "metadata": {},
   "source": [
    "Note that in both examples `missing` value is present in the results by default, as opposed to pandas."
   ]
  },
  {
   "cell_type": "code",
   "execution_count": 13,
   "metadata": {},
   "outputs": [
    {
     "data": {
      "text/plain": [
       "25×2 Named Matrix{Int64}\n",
       "                          search_type ╲ search_conducted │ false   true\n",
       "─────────────────────────────────────────────────────────┼─────────────\n",
       "Incident to Arrest                                       │     0   1219\n",
       "Incident to Arrest,Inventory                             │     0    129\n",
       "Incident to Arrest,Inventory,Probable Cause              │     0     34\n",
       "Incident to Arrest,Inventory,Protective Frisk            │     0     11\n",
       "⋮                                                              ⋮      ⋮\n",
       "Protective Frisk                                         │     0    161\n",
       "Protective Frisk,Reasonable Suspicion                    │     0     11\n",
       "Reasonable Suspicion                                     │     0    197\n",
       "missing                                                  │ 88545      0"
      ]
     },
     "execution_count": 13,
     "metadata": {},
     "output_type": "execute_result"
    }
   ],
   "source": [
    "# ri[ri.search_conducted == False].search_type.value_counts()\n",
    "# ri[ri.search_conducted == False].search_type.value_counts(dropna=False)\n",
    "# ri[ri.search_conducted == True].search_type.isnull().sum()\n",
    "freqtable(ri, :search_type, :search_conducted)"
   ]
  },
  {
   "cell_type": "code",
   "execution_count": 14,
   "metadata": {},
   "outputs": [
    {
     "data": {
      "text/plain": [
       "24×1 Named Matrix{Int64}\n",
       "                          search_type ╲ search_conducted │ true\n",
       "─────────────────────────────────────────────────────────┼─────\n",
       "Incident to Arrest                                       │ 1219\n",
       "Incident to Arrest,Inventory                             │  129\n",
       "Incident to Arrest,Inventory,Probable Cause              │   34\n",
       "Incident to Arrest,Inventory,Protective Frisk            │   11\n",
       "⋮                                                             ⋮\n",
       "Probable Cause,Reasonable Suspicion                      │   75\n",
       "Protective Frisk                                         │  161\n",
       "Protective Frisk,Reasonable Suspicion                    │   11\n",
       "Reasonable Suspicion                                     │  197"
      ]
     },
     "execution_count": 14,
     "metadata": {},
     "output_type": "execute_result"
    }
   ],
   "source": [
    "freqtable(ri, :search_type, :search_conducted, skipmissing=true)"
   ]
  },
  {
   "cell_type": "markdown",
   "metadata": {},
   "source": [
    "Note that above in the `freqtable` call we have passed column names as `Symbol`s not strings (you can think of `Symbol`s as [interned strings](https://en.wikipedia.org/wiki/String_interning))."
   ]
  },
  {
   "cell_type": "markdown",
   "metadata": {},
   "source": [
    "Now do a simple aggregation:"
   ]
  },
  {
   "cell_type": "code",
   "execution_count": 15,
   "metadata": {},
   "outputs": [
    {
     "data": {
      "text/plain": [
       "0.03483720473942948"
      ]
     },
     "execution_count": 15,
     "metadata": {},
     "output_type": "execute_result"
    }
   ],
   "source": [
    "# ri.search_conducted.mean()\n",
    "mean(ri.search_conducted)"
   ]
  },
  {
   "cell_type": "code",
   "execution_count": 16,
   "metadata": {},
   "outputs": [
    {
     "data": {
      "text/html": [
       "<div class=\"data-frame\"><p>3 rows × 3 columns</p><table class=\"data-frame\"><thead><tr><th></th><th>driver_gender</th><th>search_conducted_mean</th><th>nrow</th></tr><tr><th></th><th title=\"Union{Missing, String}\">String?</th><th title=\"Float64\">Float64</th><th title=\"Int64\">Int64</th></tr></thead><tbody><tr><th>1</th><td>F</td><td>0.0200332</td><td>23511</td></tr><tr><th>2</th><td>M</td><td>0.0433262</td><td>62895</td></tr><tr><th>3</th><td><em>missing</em></td><td>0.0</td><td>5335</td></tr></tbody></table></div>"
      ],
      "text/latex": [
       "\\begin{tabular}{r|ccc}\n",
       "\t& driver\\_gender & search\\_conducted\\_mean & nrow\\\\\n",
       "\t\\hline\n",
       "\t& String? & Float64 & Int64\\\\\n",
       "\t\\hline\n",
       "\t1 & F & 0.0200332 & 23511 \\\\\n",
       "\t2 & M & 0.0433262 & 62895 \\\\\n",
       "\t3 & \\emph{missing} & 0.0 & 5335 \\\\\n",
       "\\end{tabular}\n"
      ],
      "text/plain": [
       "\u001b[1m3×3 DataFrame\u001b[0m\n",
       "\u001b[1m Row \u001b[0m│\u001b[1m driver_gender \u001b[0m\u001b[1m search_conducted_mean \u001b[0m\u001b[1m nrow  \u001b[0m\n",
       "\u001b[1m     \u001b[0m│\u001b[90m String?       \u001b[0m\u001b[90m Float64               \u001b[0m\u001b[90m Int64 \u001b[0m\n",
       "─────┼─────────────────────────────────────────────\n",
       "   1 │ F                          0.0200332  23511\n",
       "   2 │ M                          0.0433262  62895\n",
       "   3 │\u001b[90m missing       \u001b[0m             0.0         5335"
      ]
     },
     "execution_count": 16,
     "metadata": {},
     "output_type": "execute_result"
    }
   ],
   "source": [
    "# ri.groupby('driver_gender').search_conducted.mean()\n",
    "@chain ri begin\n",
    "    groupby(\"driver_gender\")\n",
    "    combine(\"search_conducted\" => mean, nrow)\n",
    "end"
   ]
  },
  {
   "cell_type": "markdown",
   "metadata": {},
   "source": [
    "Things worth noting:\n",
    "* we use `@chain` that enchances chaining by passing the result of the previous expression as a first argument of the next by default\n",
    "* `combine` function allows you do to several transformations in one shot\n",
    "* a general scheme of specifying a transformation has a form `input_columns => transformation_function => output_column` (there are many options allowing to fine-tune the transformation)"
   ]
  },
  {
   "cell_type": "markdown",
   "metadata": {},
   "source": [
    "Investigate `groupby` a bit"
   ]
  },
  {
   "cell_type": "code",
   "execution_count": 17,
   "metadata": {
    "scrolled": true
   },
   "outputs": [
    {
     "data": {
      "text/html": [
       "<p><b>GroupedDataFrame with 3 groups based on key: driver_gender</b></p><p><i>First Group (23511 rows): driver_gender = &quot;F&quot;</i></p><div class=\"data-frame\"><table class=\"data-frame\"><thead><tr><th></th><th>stop_date</th><th>stop_time</th><th>driver_gender</th><th>driver_age_raw</th><th>driver_age</th><th>driver_race</th><th>violation_raw</th><th>violation</th><th>search_conducted</th><th>search_type</th><th>stop_outcome</th><th>is_arrested</th><th>stop_duration</th><th>drugs_related_stop</th></tr><tr><th></th><th title=\"Date\">Date</th><th title=\"Time\">Time</th><th title=\"Union{Missing, String}\">String?</th><th title=\"Union{Missing, Float64}\">Float64?</th><th title=\"Union{Missing, Float64}\">Float64?</th><th title=\"Union{Missing, String}\">String?</th><th title=\"Union{Missing, String}\">String?</th><th title=\"Union{Missing, String}\">String?</th><th title=\"Bool\">Bool</th><th title=\"Union{Missing, String}\">String?</th><th title=\"Union{Missing, String}\">String?</th><th title=\"Union{Missing, Bool}\">Bool?</th><th title=\"Union{Missing, String}\">String?</th><th title=\"Bool\">Bool</th></tr></thead><tbody><tr><th>1</th><td>2005-03-14</td><td>10:00:00</td><td>F</td><td>1984.0</td><td>21.0</td><td>White</td><td>Speeding</td><td>Speeding</td><td>0</td><td><em>missing</em></td><td>Citation</td><td>0</td><td>0-15 Min</td><td>0</td></tr><tr><th>2</th><td>2005-06-06</td><td>13:20:00</td><td>F</td><td>1986.0</td><td>19.0</td><td>White</td><td>Speeding</td><td>Speeding</td><td>0</td><td><em>missing</em></td><td>Citation</td><td>0</td><td>0-15 Min</td><td>0</td></tr><tr><th>3</th><td>2005-07-13</td><td>19:00:00</td><td>F</td><td>1966.0</td><td>39.0</td><td>White</td><td>Speeding</td><td>Speeding</td><td>0</td><td><em>missing</em></td><td>Citation</td><td>0</td><td>0-15 Min</td><td>0</td></tr><tr><th>4</th><td>2005-07-18</td><td>19:30:00</td><td>F</td><td>1984.0</td><td>21.0</td><td>White</td><td>Speeding</td><td>Speeding</td><td>0</td><td><em>missing</em></td><td>Citation</td><td>0</td><td>0-15 Min</td><td>0</td></tr><tr><th>5</th><td>2005-07-24</td><td>20:10:00</td><td>F</td><td>1958.0</td><td>47.0</td><td>White</td><td>Speeding</td><td>Speeding</td><td>0</td><td><em>missing</em></td><td>Citation</td><td>0</td><td>0-15 Min</td><td>0</td></tr><tr><th>6</th><td>2005-07-28</td><td>12:37:00</td><td>F</td><td>1979.0</td><td>26.0</td><td>Asian</td><td>Speeding</td><td>Speeding</td><td>0</td><td><em>missing</em></td><td>Citation</td><td>0</td><td>0-15 Min</td><td>0</td></tr><tr><th>7</th><td>2005-08-18</td><td>10:57:00</td><td>F</td><td>1967.0</td><td>38.0</td><td>White</td><td>Speeding</td><td>Speeding</td><td>0</td><td><em>missing</em></td><td>Citation</td><td>0</td><td>0-15 Min</td><td>0</td></tr><tr><th>8</th><td>2005-09-21</td><td>13:30:00</td><td>F</td><td>1977.0</td><td>28.0</td><td>White</td><td>Speeding</td><td>Speeding</td><td>0</td><td><em>missing</em></td><td>Citation</td><td>0</td><td>0-15 Min</td><td>0</td></tr><tr><th>9</th><td>2005-09-30</td><td>09:30:00</td><td>F</td><td>1986.0</td><td>19.0</td><td>White</td><td>Speeding</td><td>Speeding</td><td>0</td><td><em>missing</em></td><td>Citation</td><td>0</td><td>0-15 Min</td><td>0</td></tr><tr><th>10</th><td>2005-10-01</td><td>17:05:00</td><td>F</td><td>1960.0</td><td>45.0</td><td>White</td><td>Speeding</td><td>Speeding</td><td>0</td><td><em>missing</em></td><td>Citation</td><td>0</td><td>0-15 Min</td><td>0</td></tr><tr><th>11</th><td>2005-10-01</td><td>19:15:00</td><td>F</td><td>1981.0</td><td>24.0</td><td>White</td><td>Speeding</td><td>Speeding</td><td>0</td><td><em>missing</em></td><td>Citation</td><td>0</td><td>0-15 Min</td><td>0</td></tr><tr><th>12</th><td>2005-10-01</td><td>23:10:00</td><td>F</td><td>1986.0</td><td>19.0</td><td>White</td><td>Speeding</td><td>Speeding</td><td>0</td><td><em>missing</em></td><td>Citation</td><td>0</td><td>0-15 Min</td><td>0</td></tr><tr><th>13</th><td>2005-10-02</td><td>00:00:00</td><td>F</td><td>1982.0</td><td>23.0</td><td>White</td><td>Speeding</td><td>Speeding</td><td>0</td><td><em>missing</em></td><td>Citation</td><td>0</td><td>0-15 Min</td><td>0</td></tr><tr><th>14</th><td>2005-10-02</td><td>02:30:00</td><td>F</td><td>1968.0</td><td>37.0</td><td>White</td><td>Speeding</td><td>Speeding</td><td>0</td><td><em>missing</em></td><td>Citation</td><td>0</td><td>0-15 Min</td><td>0</td></tr><tr><th>15</th><td>2005-10-02</td><td>08:15:00</td><td>F</td><td>1982.0</td><td>23.0</td><td>White</td><td>Speeding</td><td>Speeding</td><td>0</td><td><em>missing</em></td><td>Citation</td><td>0</td><td>0-15 Min</td><td>0</td></tr><tr><th>&vellip;</th><td>&vellip;</td><td>&vellip;</td><td>&vellip;</td><td>&vellip;</td><td>&vellip;</td><td>&vellip;</td><td>&vellip;</td><td>&vellip;</td><td>&vellip;</td><td>&vellip;</td><td>&vellip;</td><td>&vellip;</td><td>&vellip;</td><td>&vellip;</td></tr></tbody></table></div><p>&vellip;</p><p><i>Last Group (5335 rows): driver_gender = missing</i></p><div class=\"data-frame\"><table class=\"data-frame\"><thead><tr><th></th><th>stop_date</th><th>stop_time</th><th>driver_gender</th><th>driver_age_raw</th><th>driver_age</th><th>driver_race</th><th>violation_raw</th><th>violation</th><th>search_conducted</th><th>search_type</th><th>stop_outcome</th><th>is_arrested</th><th>stop_duration</th><th>drugs_related_stop</th></tr><tr><th></th><th title=\"Date\">Date</th><th title=\"Time\">Time</th><th title=\"Union{Missing, String}\">String?</th><th title=\"Union{Missing, Float64}\">Float64?</th><th title=\"Union{Missing, Float64}\">Float64?</th><th title=\"Union{Missing, String}\">String?</th><th title=\"Union{Missing, String}\">String?</th><th title=\"Union{Missing, String}\">String?</th><th title=\"Bool\">Bool</th><th title=\"Union{Missing, String}\">String?</th><th title=\"Union{Missing, String}\">String?</th><th title=\"Union{Missing, Bool}\">Bool?</th><th title=\"Union{Missing, String}\">String?</th><th title=\"Bool\">Bool</th></tr></thead><tbody><tr><th>1</th><td>2005-09-03</td><td>16:02:00</td><td><em>missing</em></td><td><em>missing</em></td><td><em>missing</em></td><td><em>missing</em></td><td><em>missing</em></td><td><em>missing</em></td><td>0</td><td><em>missing</em></td><td><em>missing</em></td><td><em>missing</em></td><td><em>missing</em></td><td>0</td></tr><tr><th>2</th><td>2005-09-26</td><td>01:05:00</td><td><em>missing</em></td><td><em>missing</em></td><td><em>missing</em></td><td><em>missing</em></td><td><em>missing</em></td><td><em>missing</em></td><td>0</td><td><em>missing</em></td><td><em>missing</em></td><td><em>missing</em></td><td><em>missing</em></td><td>0</td></tr><tr><th>3</th><td>2005-10-01</td><td>13:09:00</td><td><em>missing</em></td><td><em>missing</em></td><td><em>missing</em></td><td><em>missing</em></td><td><em>missing</em></td><td><em>missing</em></td><td>0</td><td><em>missing</em></td><td><em>missing</em></td><td><em>missing</em></td><td><em>missing</em></td><td>0</td></tr><tr><th>4</th><td>2005-10-03</td><td>19:50:00</td><td><em>missing</em></td><td><em>missing</em></td><td><em>missing</em></td><td><em>missing</em></td><td><em>missing</em></td><td><em>missing</em></td><td>0</td><td><em>missing</em></td><td><em>missing</em></td><td><em>missing</em></td><td><em>missing</em></td><td>0</td></tr><tr><th>5</th><td>2005-10-04</td><td>11:43:00</td><td><em>missing</em></td><td><em>missing</em></td><td><em>missing</em></td><td><em>missing</em></td><td><em>missing</em></td><td><em>missing</em></td><td>0</td><td><em>missing</em></td><td><em>missing</em></td><td><em>missing</em></td><td><em>missing</em></td><td>0</td></tr><tr><th>6</th><td>2005-10-05</td><td>10:08:00</td><td><em>missing</em></td><td><em>missing</em></td><td><em>missing</em></td><td><em>missing</em></td><td><em>missing</em></td><td><em>missing</em></td><td>0</td><td><em>missing</em></td><td><em>missing</em></td><td><em>missing</em></td><td><em>missing</em></td><td>0</td></tr><tr><th>7</th><td>2005-10-07</td><td>09:09:00</td><td><em>missing</em></td><td><em>missing</em></td><td><em>missing</em></td><td><em>missing</em></td><td><em>missing</em></td><td><em>missing</em></td><td>0</td><td><em>missing</em></td><td><em>missing</em></td><td><em>missing</em></td><td><em>missing</em></td><td>0</td></tr><tr><th>8</th><td>2005-10-08</td><td>03:13:00</td><td><em>missing</em></td><td>1968.0</td><td>37.0</td><td><em>missing</em></td><td><em>missing</em></td><td><em>missing</em></td><td>0</td><td><em>missing</em></td><td><em>missing</em></td><td><em>missing</em></td><td><em>missing</em></td><td>0</td></tr><tr><th>9</th><td>2005-10-11</td><td>10:30:00</td><td><em>missing</em></td><td><em>missing</em></td><td><em>missing</em></td><td><em>missing</em></td><td><em>missing</em></td><td><em>missing</em></td><td>0</td><td><em>missing</em></td><td><em>missing</em></td><td><em>missing</em></td><td><em>missing</em></td><td>0</td></tr><tr><th>10</th><td>2005-10-11</td><td>15:20:00</td><td><em>missing</em></td><td><em>missing</em></td><td><em>missing</em></td><td><em>missing</em></td><td><em>missing</em></td><td><em>missing</em></td><td>0</td><td><em>missing</em></td><td><em>missing</em></td><td><em>missing</em></td><td><em>missing</em></td><td>0</td></tr><tr><th>11</th><td>2005-10-16</td><td>15:35:00</td><td><em>missing</em></td><td><em>missing</em></td><td><em>missing</em></td><td><em>missing</em></td><td><em>missing</em></td><td><em>missing</em></td><td>0</td><td><em>missing</em></td><td><em>missing</em></td><td><em>missing</em></td><td><em>missing</em></td><td>0</td></tr><tr><th>12</th><td>2005-10-23</td><td>12:05:00</td><td><em>missing</em></td><td><em>missing</em></td><td><em>missing</em></td><td><em>missing</em></td><td><em>missing</em></td><td><em>missing</em></td><td>0</td><td><em>missing</em></td><td><em>missing</em></td><td><em>missing</em></td><td><em>missing</em></td><td>0</td></tr><tr><th>13</th><td>2005-10-24</td><td>17:15:00</td><td><em>missing</em></td><td><em>missing</em></td><td><em>missing</em></td><td><em>missing</em></td><td><em>missing</em></td><td><em>missing</em></td><td>0</td><td><em>missing</em></td><td><em>missing</em></td><td><em>missing</em></td><td><em>missing</em></td><td>0</td></tr><tr><th>14</th><td>2005-10-24</td><td>17:20:00</td><td><em>missing</em></td><td><em>missing</em></td><td><em>missing</em></td><td><em>missing</em></td><td><em>missing</em></td><td><em>missing</em></td><td>0</td><td><em>missing</em></td><td><em>missing</em></td><td><em>missing</em></td><td><em>missing</em></td><td>0</td></tr><tr><th>15</th><td>2005-10-24</td><td>17:28:00</td><td><em>missing</em></td><td><em>missing</em></td><td><em>missing</em></td><td><em>missing</em></td><td><em>missing</em></td><td><em>missing</em></td><td>0</td><td><em>missing</em></td><td><em>missing</em></td><td><em>missing</em></td><td><em>missing</em></td><td>0</td></tr><tr><th>&vellip;</th><td>&vellip;</td><td>&vellip;</td><td>&vellip;</td><td>&vellip;</td><td>&vellip;</td><td>&vellip;</td><td>&vellip;</td><td>&vellip;</td><td>&vellip;</td><td>&vellip;</td><td>&vellip;</td><td>&vellip;</td><td>&vellip;</td><td>&vellip;</td></tr></tbody></table></div>"
      ],
      "text/latex": [
       "GroupedDataFrame with 3 groups based on key: driver\\_gender\n",
       "\n",
       "First Group (23511 rows): driver\\_gender = \"F\"\n",
       "\n",
       "\\begin{tabular}{r|cccccccccccccc}\n",
       "\t& stop\\_date & stop\\_time & driver\\_gender & driver\\_age\\_raw & driver\\_age & driver\\_race & violation\\_raw & violation & search\\_conducted & search\\_type & stop\\_outcome & is\\_arrested & stop\\_duration & drugs\\_related\\_stop\\\\\n",
       "\t\\hline\n",
       "\t& Date & Time & String? & Float64? & Float64? & String? & String? & String? & Bool & String? & String? & Bool? & String? & Bool\\\\\n",
       "\t\\hline\n",
       "\t1 & 2005-03-14 & 10:00:00 & F & 1984.0 & 21.0 & White & Speeding & Speeding & 0 & \\emph{missing} & Citation & 0 & 0-15 Min & 0 \\\\\n",
       "\t2 & 2005-06-06 & 13:20:00 & F & 1986.0 & 19.0 & White & Speeding & Speeding & 0 & \\emph{missing} & Citation & 0 & 0-15 Min & 0 \\\\\n",
       "\t3 & 2005-07-13 & 19:00:00 & F & 1966.0 & 39.0 & White & Speeding & Speeding & 0 & \\emph{missing} & Citation & 0 & 0-15 Min & 0 \\\\\n",
       "\t4 & 2005-07-18 & 19:30:00 & F & 1984.0 & 21.0 & White & Speeding & Speeding & 0 & \\emph{missing} & Citation & 0 & 0-15 Min & 0 \\\\\n",
       "\t5 & 2005-07-24 & 20:10:00 & F & 1958.0 & 47.0 & White & Speeding & Speeding & 0 & \\emph{missing} & Citation & 0 & 0-15 Min & 0 \\\\\n",
       "\t6 & 2005-07-28 & 12:37:00 & F & 1979.0 & 26.0 & Asian & Speeding & Speeding & 0 & \\emph{missing} & Citation & 0 & 0-15 Min & 0 \\\\\n",
       "\t7 & 2005-08-18 & 10:57:00 & F & 1967.0 & 38.0 & White & Speeding & Speeding & 0 & \\emph{missing} & Citation & 0 & 0-15 Min & 0 \\\\\n",
       "\t8 & 2005-09-21 & 13:30:00 & F & 1977.0 & 28.0 & White & Speeding & Speeding & 0 & \\emph{missing} & Citation & 0 & 0-15 Min & 0 \\\\\n",
       "\t9 & 2005-09-30 & 09:30:00 & F & 1986.0 & 19.0 & White & Speeding & Speeding & 0 & \\emph{missing} & Citation & 0 & 0-15 Min & 0 \\\\\n",
       "\t10 & 2005-10-01 & 17:05:00 & F & 1960.0 & 45.0 & White & Speeding & Speeding & 0 & \\emph{missing} & Citation & 0 & 0-15 Min & 0 \\\\\n",
       "\t11 & 2005-10-01 & 19:15:00 & F & 1981.0 & 24.0 & White & Speeding & Speeding & 0 & \\emph{missing} & Citation & 0 & 0-15 Min & 0 \\\\\n",
       "\t12 & 2005-10-01 & 23:10:00 & F & 1986.0 & 19.0 & White & Speeding & Speeding & 0 & \\emph{missing} & Citation & 0 & 0-15 Min & 0 \\\\\n",
       "\t13 & 2005-10-02 & 00:00:00 & F & 1982.0 & 23.0 & White & Speeding & Speeding & 0 & \\emph{missing} & Citation & 0 & 0-15 Min & 0 \\\\\n",
       "\t14 & 2005-10-02 & 02:30:00 & F & 1968.0 & 37.0 & White & Speeding & Speeding & 0 & \\emph{missing} & Citation & 0 & 0-15 Min & 0 \\\\\n",
       "\t15 & 2005-10-02 & 08:15:00 & F & 1982.0 & 23.0 & White & Speeding & Speeding & 0 & \\emph{missing} & Citation & 0 & 0-15 Min & 0 \\\\\n",
       "\t$\\dots$ & $\\dots$ & $\\dots$ & $\\dots$ & $\\dots$ & $\\dots$ & $\\dots$ & $\\dots$ & $\\dots$ & $\\dots$ & $\\dots$ & $\\dots$ & $\\dots$ & $\\dots$ & $\\dots$ \\\\\n",
       "\\end{tabular}\n",
       "\n",
       "$\\dots$\n",
       "\n",
       "Last Group (5335 rows): driver\\_gender = missing\n",
       "\n",
       "\\begin{tabular}{r|cccccccccccccc}\n",
       "\t& stop\\_date & stop\\_time & driver\\_gender & driver\\_age\\_raw & driver\\_age & driver\\_race & violation\\_raw & violation & search\\_conducted & search\\_type & stop\\_outcome & is\\_arrested & stop\\_duration & drugs\\_related\\_stop\\\\\n",
       "\t\\hline\n",
       "\t& Date & Time & String? & Float64? & Float64? & String? & String? & String? & Bool & String? & String? & Bool? & String? & Bool\\\\\n",
       "\t\\hline\n",
       "\t1 & 2005-09-03 & 16:02:00 & \\emph{missing} & \\emph{missing} & \\emph{missing} & \\emph{missing} & \\emph{missing} & \\emph{missing} & 0 & \\emph{missing} & \\emph{missing} & \\emph{missing} & \\emph{missing} & 0 \\\\\n",
       "\t2 & 2005-09-26 & 01:05:00 & \\emph{missing} & \\emph{missing} & \\emph{missing} & \\emph{missing} & \\emph{missing} & \\emph{missing} & 0 & \\emph{missing} & \\emph{missing} & \\emph{missing} & \\emph{missing} & 0 \\\\\n",
       "\t3 & 2005-10-01 & 13:09:00 & \\emph{missing} & \\emph{missing} & \\emph{missing} & \\emph{missing} & \\emph{missing} & \\emph{missing} & 0 & \\emph{missing} & \\emph{missing} & \\emph{missing} & \\emph{missing} & 0 \\\\\n",
       "\t4 & 2005-10-03 & 19:50:00 & \\emph{missing} & \\emph{missing} & \\emph{missing} & \\emph{missing} & \\emph{missing} & \\emph{missing} & 0 & \\emph{missing} & \\emph{missing} & \\emph{missing} & \\emph{missing} & 0 \\\\\n",
       "\t5 & 2005-10-04 & 11:43:00 & \\emph{missing} & \\emph{missing} & \\emph{missing} & \\emph{missing} & \\emph{missing} & \\emph{missing} & 0 & \\emph{missing} & \\emph{missing} & \\emph{missing} & \\emph{missing} & 0 \\\\\n",
       "\t6 & 2005-10-05 & 10:08:00 & \\emph{missing} & \\emph{missing} & \\emph{missing} & \\emph{missing} & \\emph{missing} & \\emph{missing} & 0 & \\emph{missing} & \\emph{missing} & \\emph{missing} & \\emph{missing} & 0 \\\\\n",
       "\t7 & 2005-10-07 & 09:09:00 & \\emph{missing} & \\emph{missing} & \\emph{missing} & \\emph{missing} & \\emph{missing} & \\emph{missing} & 0 & \\emph{missing} & \\emph{missing} & \\emph{missing} & \\emph{missing} & 0 \\\\\n",
       "\t8 & 2005-10-08 & 03:13:00 & \\emph{missing} & 1968.0 & 37.0 & \\emph{missing} & \\emph{missing} & \\emph{missing} & 0 & \\emph{missing} & \\emph{missing} & \\emph{missing} & \\emph{missing} & 0 \\\\\n",
       "\t9 & 2005-10-11 & 10:30:00 & \\emph{missing} & \\emph{missing} & \\emph{missing} & \\emph{missing} & \\emph{missing} & \\emph{missing} & 0 & \\emph{missing} & \\emph{missing} & \\emph{missing} & \\emph{missing} & 0 \\\\\n",
       "\t10 & 2005-10-11 & 15:20:00 & \\emph{missing} & \\emph{missing} & \\emph{missing} & \\emph{missing} & \\emph{missing} & \\emph{missing} & 0 & \\emph{missing} & \\emph{missing} & \\emph{missing} & \\emph{missing} & 0 \\\\\n",
       "\t11 & 2005-10-16 & 15:35:00 & \\emph{missing} & \\emph{missing} & \\emph{missing} & \\emph{missing} & \\emph{missing} & \\emph{missing} & 0 & \\emph{missing} & \\emph{missing} & \\emph{missing} & \\emph{missing} & 0 \\\\\n",
       "\t12 & 2005-10-23 & 12:05:00 & \\emph{missing} & \\emph{missing} & \\emph{missing} & \\emph{missing} & \\emph{missing} & \\emph{missing} & 0 & \\emph{missing} & \\emph{missing} & \\emph{missing} & \\emph{missing} & 0 \\\\\n",
       "\t13 & 2005-10-24 & 17:15:00 & \\emph{missing} & \\emph{missing} & \\emph{missing} & \\emph{missing} & \\emph{missing} & \\emph{missing} & 0 & \\emph{missing} & \\emph{missing} & \\emph{missing} & \\emph{missing} & 0 \\\\\n",
       "\t14 & 2005-10-24 & 17:20:00 & \\emph{missing} & \\emph{missing} & \\emph{missing} & \\emph{missing} & \\emph{missing} & \\emph{missing} & 0 & \\emph{missing} & \\emph{missing} & \\emph{missing} & \\emph{missing} & 0 \\\\\n",
       "\t15 & 2005-10-24 & 17:28:00 & \\emph{missing} & \\emph{missing} & \\emph{missing} & \\emph{missing} & \\emph{missing} & \\emph{missing} & 0 & \\emph{missing} & \\emph{missing} & \\emph{missing} & \\emph{missing} & 0 \\\\\n",
       "\t$\\dots$ & $\\dots$ & $\\dots$ & $\\dots$ & $\\dots$ & $\\dots$ & $\\dots$ & $\\dots$ & $\\dots$ & $\\dots$ & $\\dots$ & $\\dots$ & $\\dots$ & $\\dots$ & $\\dots$ \\\\\n",
       "\\end{tabular}\n"
      ],
      "text/plain": [
       "GroupedDataFrame with 3 groups based on key: driver_gender\n",
       "First Group (23511 rows): driver_gender = \"F\"\n",
       "\u001b[1m   Row \u001b[0m│\u001b[1m stop_date  \u001b[0m\u001b[1m stop_time \u001b[0m\u001b[1m driver_gender \u001b[0m\u001b[1m driver_age_raw \u001b[0m\u001b[1m driver_age \u001b[0m\u001b[1m driver_race \u001b[0m\u001b[1m violation_raw                  \u001b[0m\u001b[1m violation           \u001b[0m\u001b[1m search_conducted \u001b[0m\u001b[1m search_type \u001b[0m\u001b[1m stop_outcome \u001b[0m\u001b[1m is_arrested \u001b[0m\u001b[1m stop_duration \u001b[0m\u001b[1m drugs_related_stop \u001b[0m\n",
       "\u001b[1m       \u001b[0m│\u001b[90m Date       \u001b[0m\u001b[90m Time      \u001b[0m\u001b[90m String?       \u001b[0m\u001b[90m Float64?       \u001b[0m\u001b[90m Float64?   \u001b[0m\u001b[90m String?     \u001b[0m\u001b[90m String?                        \u001b[0m\u001b[90m String?             \u001b[0m\u001b[90m Bool             \u001b[0m\u001b[90m String?     \u001b[0m\u001b[90m String?      \u001b[0m\u001b[90m Bool?       \u001b[0m\u001b[90m String?       \u001b[0m\u001b[90m Bool               \u001b[0m\n",
       "───────┼─────────────────────────────────────────────────────────────────────────────────────────────────────────────────────────────────────────────────────────────────────────────────────────────────────────────────────────────────\n",
       "     1 │ 2005-03-14  10:00:00   F                      1984.0        21.0  White        Speeding                        Speeding                        false \u001b[90m missing     \u001b[0m Citation            false  0-15 Min                    false\n",
       "     2 │ 2005-06-06  13:20:00   F                      1986.0        19.0  White        Speeding                        Speeding                        false \u001b[90m missing     \u001b[0m Citation            false  0-15 Min                    false\n",
       "     3 │ 2005-07-13  19:00:00   F                      1966.0        39.0  White        Speeding                        Speeding                        false \u001b[90m missing     \u001b[0m Citation            false  0-15 Min                    false\n",
       "     4 │ 2005-07-18  19:30:00   F                      1984.0        21.0  White        Speeding                        Speeding                        false \u001b[90m missing     \u001b[0m Citation            false  0-15 Min                    false\n",
       "   ⋮   │     ⋮           ⋮            ⋮              ⋮             ⋮            ⋮                     ⋮                          ⋮                  ⋮               ⋮            ⋮             ⋮             ⋮                ⋮\n",
       " 23509 │ 2015-12-31  19:44:00   F                      1969.0        46.0  White        Speeding                        Speeding                        false \u001b[90m missing     \u001b[0m Warning             false  0-15 Min                    false\n",
       " 23510 │ 2015-12-31  19:55:00   F                      1974.0        41.0  White        Registration Violation          Registration/plates             false \u001b[90m missing     \u001b[0m Citation            false  0-15 Min                    false\n",
       " 23511 │ 2015-12-31  20:35:00   F                      1982.0        33.0  White        Equipment/Inspection Violation  Equipment                       false \u001b[90m missing     \u001b[0m Warning             false  0-15 Min                    false\n",
       "\u001b[36m                                                                                                                                                                                                                       23504 rows omitted\u001b[0m\n",
       "⋮\n",
       "Last Group (5335 rows): driver_gender = missing\n",
       "\u001b[1m  Row \u001b[0m│\u001b[1m stop_date  \u001b[0m\u001b[1m stop_time \u001b[0m\u001b[1m driver_gender \u001b[0m\u001b[1m driver_age_raw \u001b[0m\u001b[1m driver_age \u001b[0m\u001b[1m driver_race \u001b[0m\u001b[1m violation_raw \u001b[0m\u001b[1m violation \u001b[0m\u001b[1m search_conducted \u001b[0m\u001b[1m search_type \u001b[0m\u001b[1m stop_outcome \u001b[0m\u001b[1m is_arrested \u001b[0m\u001b[1m stop_duration \u001b[0m\u001b[1m drugs_related_stop \u001b[0m\n",
       "\u001b[1m      \u001b[0m│\u001b[90m Date       \u001b[0m\u001b[90m Time      \u001b[0m\u001b[90m String?       \u001b[0m\u001b[90m Float64?       \u001b[0m\u001b[90m Float64?   \u001b[0m\u001b[90m String?     \u001b[0m\u001b[90m String?       \u001b[0m\u001b[90m String?   \u001b[0m\u001b[90m Bool             \u001b[0m\u001b[90m String?     \u001b[0m\u001b[90m String?      \u001b[0m\u001b[90m Bool?       \u001b[0m\u001b[90m String?       \u001b[0m\u001b[90m Bool               \u001b[0m\n",
       "──────┼──────────────────────────────────────────────────────────────────────────────────────────────────────────────────────────────────────────────────────────────────────────────────────────────────────\n",
       "    1 │ 2005-09-03  16:02:00  \u001b[90m missing       \u001b[0m\u001b[90m        missing \u001b[0m\u001b[90m    missing \u001b[0m\u001b[90m missing     \u001b[0m\u001b[90m missing       \u001b[0m\u001b[90m missing   \u001b[0m            false \u001b[90m missing     \u001b[0m\u001b[90m missing      \u001b[0m\u001b[90m     missing \u001b[0m\u001b[90m missing       \u001b[0m              false\n",
       "    2 │ 2005-09-26  01:05:00  \u001b[90m missing       \u001b[0m\u001b[90m        missing \u001b[0m\u001b[90m    missing \u001b[0m\u001b[90m missing     \u001b[0m\u001b[90m missing       \u001b[0m\u001b[90m missing   \u001b[0m            false \u001b[90m missing     \u001b[0m\u001b[90m missing      \u001b[0m\u001b[90m     missing \u001b[0m\u001b[90m missing       \u001b[0m              false\n",
       "    3 │ 2005-10-01  13:09:00  \u001b[90m missing       \u001b[0m\u001b[90m        missing \u001b[0m\u001b[90m    missing \u001b[0m\u001b[90m missing     \u001b[0m\u001b[90m missing       \u001b[0m\u001b[90m missing   \u001b[0m            false \u001b[90m missing     \u001b[0m\u001b[90m missing      \u001b[0m\u001b[90m     missing \u001b[0m\u001b[90m missing       \u001b[0m              false\n",
       "    4 │ 2005-10-03  19:50:00  \u001b[90m missing       \u001b[0m\u001b[90m        missing \u001b[0m\u001b[90m    missing \u001b[0m\u001b[90m missing     \u001b[0m\u001b[90m missing       \u001b[0m\u001b[90m missing   \u001b[0m            false \u001b[90m missing     \u001b[0m\u001b[90m missing      \u001b[0m\u001b[90m     missing \u001b[0m\u001b[90m missing       \u001b[0m              false\n",
       "  ⋮   │     ⋮           ⋮            ⋮              ⋮             ⋮            ⋮             ⋮            ⋮             ⋮               ⋮            ⋮             ⋮             ⋮                ⋮\n",
       " 5333 │ 2015-12-28  12:01:00  \u001b[90m missing       \u001b[0m\u001b[90m        missing \u001b[0m\u001b[90m    missing \u001b[0m\u001b[90m missing     \u001b[0m\u001b[90m missing       \u001b[0m\u001b[90m missing   \u001b[0m            false \u001b[90m missing     \u001b[0m\u001b[90m missing      \u001b[0m\u001b[90m     missing \u001b[0m\u001b[90m missing       \u001b[0m              false\n",
       " 5334 │ 2015-12-30  13:27:00  \u001b[90m missing       \u001b[0m\u001b[90m        missing \u001b[0m\u001b[90m    missing \u001b[0m\u001b[90m missing     \u001b[0m\u001b[90m missing       \u001b[0m\u001b[90m missing   \u001b[0m            false \u001b[90m missing     \u001b[0m\u001b[90m missing      \u001b[0m\u001b[90m     missing \u001b[0m\u001b[90m missing       \u001b[0m              false\n",
       " 5335 │ 2015-12-30  17:07:00  \u001b[90m missing       \u001b[0m\u001b[90m        missing \u001b[0m\u001b[90m    missing \u001b[0m\u001b[90m missing     \u001b[0m\u001b[90m missing       \u001b[0m\u001b[90m missing   \u001b[0m            false \u001b[90m missing     \u001b[0m\u001b[90m missing      \u001b[0m\u001b[90m     missing \u001b[0m\u001b[90m missing       \u001b[0m              false\n",
       "\u001b[36m                                                                                                                                                                                            5328 rows omitted\u001b[0m"
      ]
     },
     "execution_count": 17,
     "metadata": {},
     "output_type": "execute_result"
    }
   ],
   "source": [
    "gri = groupby(ri, \"driver_gender\")"
   ]
  },
  {
   "cell_type": "markdown",
   "metadata": {},
   "source": [
    "You can index into it using ingegers or grouping column vales (both are fast):"
   ]
  },
  {
   "cell_type": "code",
   "execution_count": 18,
   "metadata": {
    "scrolled": true
   },
   "outputs": [
    {
     "data": {
      "text/html": [
       "<div class=\"data-frame\"><p>62,895 rows × 14 columns</p><table class=\"data-frame\"><thead><tr><th></th><th>stop_date</th><th>stop_time</th><th>driver_gender</th><th>driver_age_raw</th><th>driver_age</th><th>driver_race</th><th>violation_raw</th><th>violation</th><th>search_conducted</th><th>search_type</th><th>stop_outcome</th><th>is_arrested</th><th>stop_duration</th><th>drugs_related_stop</th></tr><tr><th></th><th title=\"Date\">Date</th><th title=\"Time\">Time</th><th title=\"Union{Missing, String}\">String?</th><th title=\"Union{Missing, Float64}\">Float64?</th><th title=\"Union{Missing, Float64}\">Float64?</th><th title=\"Union{Missing, String}\">String?</th><th title=\"Union{Missing, String}\">String?</th><th title=\"Union{Missing, String}\">String?</th><th title=\"Bool\">Bool</th><th title=\"Union{Missing, String}\">String?</th><th title=\"Union{Missing, String}\">String?</th><th title=\"Union{Missing, Bool}\">Bool?</th><th title=\"Union{Missing, String}\">String?</th><th title=\"Bool\">Bool</th></tr></thead><tbody><tr><th>1</th><td>2005-01-02</td><td>01:55:00</td><td>M</td><td>1985.0</td><td>20.0</td><td>White</td><td>Speeding</td><td>Speeding</td><td>0</td><td><em>missing</em></td><td>Citation</td><td>0</td><td>0-15 Min</td><td>0</td></tr><tr><th>2</th><td>2005-01-18</td><td>08:15:00</td><td>M</td><td>1965.0</td><td>40.0</td><td>White</td><td>Speeding</td><td>Speeding</td><td>0</td><td><em>missing</em></td><td>Citation</td><td>0</td><td>0-15 Min</td><td>0</td></tr><tr><th>3</th><td>2005-01-23</td><td>23:15:00</td><td>M</td><td>1972.0</td><td>33.0</td><td>White</td><td>Speeding</td><td>Speeding</td><td>0</td><td><em>missing</em></td><td>Citation</td><td>0</td><td>0-15 Min</td><td>0</td></tr><tr><th>4</th><td>2005-02-20</td><td>17:15:00</td><td>M</td><td>1986.0</td><td>19.0</td><td>White</td><td>Call for Service</td><td>Other</td><td>0</td><td><em>missing</em></td><td>Arrest Driver</td><td>1</td><td>16-30 Min</td><td>0</td></tr><tr><th>5</th><td>2005-03-23</td><td>09:45:00</td><td>M</td><td>1982.0</td><td>23.0</td><td>Black</td><td>Equipment/Inspection Violation</td><td>Equipment</td><td>0</td><td><em>missing</em></td><td>Citation</td><td>0</td><td>0-15 Min</td><td>0</td></tr><tr><th>6</th><td>2005-04-01</td><td>17:30:00</td><td>M</td><td>1969.0</td><td>36.0</td><td>White</td><td>Speeding</td><td>Speeding</td><td>0</td><td><em>missing</em></td><td>Citation</td><td>0</td><td>0-15 Min</td><td>0</td></tr><tr><th>7</th><td>2005-07-13</td><td>10:15:00</td><td>M</td><td>1970.0</td><td>35.0</td><td>Black</td><td>Speeding</td><td>Speeding</td><td>0</td><td><em>missing</em></td><td>Citation</td><td>0</td><td>0-15 Min</td><td>0</td></tr><tr><th>8</th><td>2005-07-13</td><td>15:45:00</td><td>M</td><td>1970.0</td><td>35.0</td><td>White</td><td>Speeding</td><td>Speeding</td><td>0</td><td><em>missing</em></td><td>Citation</td><td>0</td><td>0-15 Min</td><td>0</td></tr><tr><th>9</th><td>2005-07-13</td><td>16:20:00</td><td>M</td><td>1979.0</td><td>26.0</td><td>Asian</td><td>Speeding</td><td>Speeding</td><td>0</td><td><em>missing</em></td><td>Citation</td><td>0</td><td>0-15 Min</td><td>0</td></tr><tr><th>10</th><td>2005-07-14</td><td>19:55:00</td><td>M</td><td>1979.0</td><td>26.0</td><td>White</td><td>Speeding</td><td>Speeding</td><td>0</td><td><em>missing</em></td><td>Citation</td><td>0</td><td>0-15 Min</td><td>0</td></tr><tr><th>11</th><td>2005-07-18</td><td>19:45:00</td><td>M</td><td>1969.0</td><td>36.0</td><td>White</td><td>Speeding</td><td>Speeding</td><td>0</td><td><em>missing</em></td><td>Citation</td><td>0</td><td>0-15 Min</td><td>0</td></tr><tr><th>12</th><td>2005-07-19</td><td>00:30:00</td><td>M</td><td>1982.0</td><td>23.0</td><td>White</td><td>Speeding</td><td>Speeding</td><td>0</td><td><em>missing</em></td><td>Citation</td><td>0</td><td>0-15 Min</td><td>0</td></tr><tr><th>13</th><td>2005-07-19</td><td>00:30:00</td><td>M</td><td>1982.0</td><td>23.0</td><td>White</td><td>Speeding</td><td>Speeding</td><td>0</td><td><em>missing</em></td><td>Citation</td><td>0</td><td>0-15 Min</td><td>0</td></tr><tr><th>14</th><td>2005-07-19</td><td>23:30:00</td><td>M</td><td>1979.0</td><td>26.0</td><td>White</td><td>Equipment/Inspection Violation</td><td>Equipment</td><td>0</td><td><em>missing</em></td><td>Citation</td><td>0</td><td>0-15 Min</td><td>0</td></tr><tr><th>15</th><td>2005-07-20</td><td>00:05:00</td><td>M</td><td>1955.0</td><td>50.0</td><td>White</td><td>Speeding</td><td>Speeding</td><td>0</td><td><em>missing</em></td><td>Citation</td><td>0</td><td>0-15 Min</td><td>0</td></tr><tr><th>&vellip;</th><td>&vellip;</td><td>&vellip;</td><td>&vellip;</td><td>&vellip;</td><td>&vellip;</td><td>&vellip;</td><td>&vellip;</td><td>&vellip;</td><td>&vellip;</td><td>&vellip;</td><td>&vellip;</td><td>&vellip;</td><td>&vellip;</td><td>&vellip;</td></tr></tbody></table></div>"
      ],
      "text/latex": [
       "\\begin{tabular}{r|cccccccccccccc}\n",
       "\t& stop\\_date & stop\\_time & driver\\_gender & driver\\_age\\_raw & driver\\_age & driver\\_race & violation\\_raw & violation & search\\_conducted & search\\_type & stop\\_outcome & is\\_arrested & stop\\_duration & drugs\\_related\\_stop\\\\\n",
       "\t\\hline\n",
       "\t& Date & Time & String? & Float64? & Float64? & String? & String? & String? & Bool & String? & String? & Bool? & String? & Bool\\\\\n",
       "\t\\hline\n",
       "\t1 & 2005-01-02 & 01:55:00 & M & 1985.0 & 20.0 & White & Speeding & Speeding & 0 & \\emph{missing} & Citation & 0 & 0-15 Min & 0 \\\\\n",
       "\t2 & 2005-01-18 & 08:15:00 & M & 1965.0 & 40.0 & White & Speeding & Speeding & 0 & \\emph{missing} & Citation & 0 & 0-15 Min & 0 \\\\\n",
       "\t3 & 2005-01-23 & 23:15:00 & M & 1972.0 & 33.0 & White & Speeding & Speeding & 0 & \\emph{missing} & Citation & 0 & 0-15 Min & 0 \\\\\n",
       "\t4 & 2005-02-20 & 17:15:00 & M & 1986.0 & 19.0 & White & Call for Service & Other & 0 & \\emph{missing} & Arrest Driver & 1 & 16-30 Min & 0 \\\\\n",
       "\t5 & 2005-03-23 & 09:45:00 & M & 1982.0 & 23.0 & Black & Equipment/Inspection Violation & Equipment & 0 & \\emph{missing} & Citation & 0 & 0-15 Min & 0 \\\\\n",
       "\t6 & 2005-04-01 & 17:30:00 & M & 1969.0 & 36.0 & White & Speeding & Speeding & 0 & \\emph{missing} & Citation & 0 & 0-15 Min & 0 \\\\\n",
       "\t7 & 2005-07-13 & 10:15:00 & M & 1970.0 & 35.0 & Black & Speeding & Speeding & 0 & \\emph{missing} & Citation & 0 & 0-15 Min & 0 \\\\\n",
       "\t8 & 2005-07-13 & 15:45:00 & M & 1970.0 & 35.0 & White & Speeding & Speeding & 0 & \\emph{missing} & Citation & 0 & 0-15 Min & 0 \\\\\n",
       "\t9 & 2005-07-13 & 16:20:00 & M & 1979.0 & 26.0 & Asian & Speeding & Speeding & 0 & \\emph{missing} & Citation & 0 & 0-15 Min & 0 \\\\\n",
       "\t10 & 2005-07-14 & 19:55:00 & M & 1979.0 & 26.0 & White & Speeding & Speeding & 0 & \\emph{missing} & Citation & 0 & 0-15 Min & 0 \\\\\n",
       "\t11 & 2005-07-18 & 19:45:00 & M & 1969.0 & 36.0 & White & Speeding & Speeding & 0 & \\emph{missing} & Citation & 0 & 0-15 Min & 0 \\\\\n",
       "\t12 & 2005-07-19 & 00:30:00 & M & 1982.0 & 23.0 & White & Speeding & Speeding & 0 & \\emph{missing} & Citation & 0 & 0-15 Min & 0 \\\\\n",
       "\t13 & 2005-07-19 & 00:30:00 & M & 1982.0 & 23.0 & White & Speeding & Speeding & 0 & \\emph{missing} & Citation & 0 & 0-15 Min & 0 \\\\\n",
       "\t14 & 2005-07-19 & 23:30:00 & M & 1979.0 & 26.0 & White & Equipment/Inspection Violation & Equipment & 0 & \\emph{missing} & Citation & 0 & 0-15 Min & 0 \\\\\n",
       "\t15 & 2005-07-20 & 00:05:00 & M & 1955.0 & 50.0 & White & Speeding & Speeding & 0 & \\emph{missing} & Citation & 0 & 0-15 Min & 0 \\\\\n",
       "\t$\\dots$ & $\\dots$ & $\\dots$ & $\\dots$ & $\\dots$ & $\\dots$ & $\\dots$ & $\\dots$ & $\\dots$ & $\\dots$ & $\\dots$ & $\\dots$ & $\\dots$ & $\\dots$ & $\\dots$ \\\\\n",
       "\\end{tabular}\n"
      ],
      "text/plain": [
       "\u001b[1m62895×14 SubDataFrame\u001b[0m\n",
       "\u001b[1m   Row \u001b[0m│\u001b[1m stop_date  \u001b[0m\u001b[1m stop_time \u001b[0m\u001b[1m driver_gender \u001b[0m\u001b[1m driver_age_raw \u001b[0m\u001b[1m driver_age \u001b[0m\u001b[1m driver_race \u001b[0m\u001b[1m violation_raw                  \u001b[0m\u001b[1m violation        \u001b[0m\u001b[1m search_conducted \u001b[0m\u001b[1m search_type \u001b[0m\u001b[1m stop_outcome  \u001b[0m\u001b[1m is_arrested \u001b[0m\u001b[1m stop_duration \u001b[0m\u001b[1m drugs_related_stop \u001b[0m\n",
       "\u001b[1m       \u001b[0m│\u001b[90m Date       \u001b[0m\u001b[90m Time      \u001b[0m\u001b[90m String?       \u001b[0m\u001b[90m Float64?       \u001b[0m\u001b[90m Float64?   \u001b[0m\u001b[90m String?     \u001b[0m\u001b[90m String?                        \u001b[0m\u001b[90m String?          \u001b[0m\u001b[90m Bool             \u001b[0m\u001b[90m String?     \u001b[0m\u001b[90m String?       \u001b[0m\u001b[90m Bool?       \u001b[0m\u001b[90m String?       \u001b[0m\u001b[90m Bool               \u001b[0m\n",
       "───────┼───────────────────────────────────────────────────────────────────────────────────────────────────────────────────────────────────────────────────────────────────────────────────────────────────────────────────────────────\n",
       "     1 │ 2005-01-02  01:55:00   M                      1985.0        20.0  White        Speeding                        Speeding                     false \u001b[90m missing     \u001b[0m Citation             false  0-15 Min                    false\n",
       "     2 │ 2005-01-18  08:15:00   M                      1965.0        40.0  White        Speeding                        Speeding                     false \u001b[90m missing     \u001b[0m Citation             false  0-15 Min                    false\n",
       "     3 │ 2005-01-23  23:15:00   M                      1972.0        33.0  White        Speeding                        Speeding                     false \u001b[90m missing     \u001b[0m Citation             false  0-15 Min                    false\n",
       "   ⋮   │     ⋮           ⋮            ⋮              ⋮             ⋮            ⋮                     ⋮                        ⋮                 ⋮               ⋮             ⋮             ⋮             ⋮                ⋮\n",
       " 62893 │ 2015-12-31  20:45:00   M                      1992.0        23.0  White        Other Traffic Violation         Moving violation             false \u001b[90m missing     \u001b[0m Warning              false  0-15 Min                    false\n",
       " 62894 │ 2015-12-31  21:42:00   M                      1993.0        22.0  White        Speeding                        Speeding                     false \u001b[90m missing     \u001b[0m Citation             false  0-15 Min                    false\n",
       " 62895 │ 2015-12-31  22:46:00   M                      1959.0        56.0  Hispanic     Speeding                        Speeding                     false \u001b[90m missing     \u001b[0m Citation             false  0-15 Min                    false\n",
       "\u001b[36m                                                                                                                                                                                                                     62889 rows omitted\u001b[0m"
      ]
     },
     "execution_count": 18,
     "metadata": {},
     "output_type": "execute_result"
    }
   ],
   "source": [
    "gri[2]"
   ]
  },
  {
   "cell_type": "code",
   "execution_count": 19,
   "metadata": {
    "scrolled": true
   },
   "outputs": [
    {
     "data": {
      "text/html": [
       "<div class=\"data-frame\"><p>23,511 rows × 14 columns</p><table class=\"data-frame\"><thead><tr><th></th><th>stop_date</th><th>stop_time</th><th>driver_gender</th><th>driver_age_raw</th><th>driver_age</th><th>driver_race</th><th>violation_raw</th><th>violation</th><th>search_conducted</th><th>search_type</th><th>stop_outcome</th><th>is_arrested</th><th>stop_duration</th><th>drugs_related_stop</th></tr><tr><th></th><th title=\"Date\">Date</th><th title=\"Time\">Time</th><th title=\"Union{Missing, String}\">String?</th><th title=\"Union{Missing, Float64}\">Float64?</th><th title=\"Union{Missing, Float64}\">Float64?</th><th title=\"Union{Missing, String}\">String?</th><th title=\"Union{Missing, String}\">String?</th><th title=\"Union{Missing, String}\">String?</th><th title=\"Bool\">Bool</th><th title=\"Union{Missing, String}\">String?</th><th title=\"Union{Missing, String}\">String?</th><th title=\"Union{Missing, Bool}\">Bool?</th><th title=\"Union{Missing, String}\">String?</th><th title=\"Bool\">Bool</th></tr></thead><tbody><tr><th>1</th><td>2005-03-14</td><td>10:00:00</td><td>F</td><td>1984.0</td><td>21.0</td><td>White</td><td>Speeding</td><td>Speeding</td><td>0</td><td><em>missing</em></td><td>Citation</td><td>0</td><td>0-15 Min</td><td>0</td></tr><tr><th>2</th><td>2005-06-06</td><td>13:20:00</td><td>F</td><td>1986.0</td><td>19.0</td><td>White</td><td>Speeding</td><td>Speeding</td><td>0</td><td><em>missing</em></td><td>Citation</td><td>0</td><td>0-15 Min</td><td>0</td></tr><tr><th>3</th><td>2005-07-13</td><td>19:00:00</td><td>F</td><td>1966.0</td><td>39.0</td><td>White</td><td>Speeding</td><td>Speeding</td><td>0</td><td><em>missing</em></td><td>Citation</td><td>0</td><td>0-15 Min</td><td>0</td></tr><tr><th>4</th><td>2005-07-18</td><td>19:30:00</td><td>F</td><td>1984.0</td><td>21.0</td><td>White</td><td>Speeding</td><td>Speeding</td><td>0</td><td><em>missing</em></td><td>Citation</td><td>0</td><td>0-15 Min</td><td>0</td></tr><tr><th>5</th><td>2005-07-24</td><td>20:10:00</td><td>F</td><td>1958.0</td><td>47.0</td><td>White</td><td>Speeding</td><td>Speeding</td><td>0</td><td><em>missing</em></td><td>Citation</td><td>0</td><td>0-15 Min</td><td>0</td></tr><tr><th>6</th><td>2005-07-28</td><td>12:37:00</td><td>F</td><td>1979.0</td><td>26.0</td><td>Asian</td><td>Speeding</td><td>Speeding</td><td>0</td><td><em>missing</em></td><td>Citation</td><td>0</td><td>0-15 Min</td><td>0</td></tr><tr><th>7</th><td>2005-08-18</td><td>10:57:00</td><td>F</td><td>1967.0</td><td>38.0</td><td>White</td><td>Speeding</td><td>Speeding</td><td>0</td><td><em>missing</em></td><td>Citation</td><td>0</td><td>0-15 Min</td><td>0</td></tr><tr><th>8</th><td>2005-09-21</td><td>13:30:00</td><td>F</td><td>1977.0</td><td>28.0</td><td>White</td><td>Speeding</td><td>Speeding</td><td>0</td><td><em>missing</em></td><td>Citation</td><td>0</td><td>0-15 Min</td><td>0</td></tr><tr><th>9</th><td>2005-09-30</td><td>09:30:00</td><td>F</td><td>1986.0</td><td>19.0</td><td>White</td><td>Speeding</td><td>Speeding</td><td>0</td><td><em>missing</em></td><td>Citation</td><td>0</td><td>0-15 Min</td><td>0</td></tr><tr><th>10</th><td>2005-10-01</td><td>17:05:00</td><td>F</td><td>1960.0</td><td>45.0</td><td>White</td><td>Speeding</td><td>Speeding</td><td>0</td><td><em>missing</em></td><td>Citation</td><td>0</td><td>0-15 Min</td><td>0</td></tr><tr><th>11</th><td>2005-10-01</td><td>19:15:00</td><td>F</td><td>1981.0</td><td>24.0</td><td>White</td><td>Speeding</td><td>Speeding</td><td>0</td><td><em>missing</em></td><td>Citation</td><td>0</td><td>0-15 Min</td><td>0</td></tr><tr><th>12</th><td>2005-10-01</td><td>23:10:00</td><td>F</td><td>1986.0</td><td>19.0</td><td>White</td><td>Speeding</td><td>Speeding</td><td>0</td><td><em>missing</em></td><td>Citation</td><td>0</td><td>0-15 Min</td><td>0</td></tr><tr><th>13</th><td>2005-10-02</td><td>00:00:00</td><td>F</td><td>1982.0</td><td>23.0</td><td>White</td><td>Speeding</td><td>Speeding</td><td>0</td><td><em>missing</em></td><td>Citation</td><td>0</td><td>0-15 Min</td><td>0</td></tr><tr><th>14</th><td>2005-10-02</td><td>02:30:00</td><td>F</td><td>1968.0</td><td>37.0</td><td>White</td><td>Speeding</td><td>Speeding</td><td>0</td><td><em>missing</em></td><td>Citation</td><td>0</td><td>0-15 Min</td><td>0</td></tr><tr><th>15</th><td>2005-10-02</td><td>08:15:00</td><td>F</td><td>1982.0</td><td>23.0</td><td>White</td><td>Speeding</td><td>Speeding</td><td>0</td><td><em>missing</em></td><td>Citation</td><td>0</td><td>0-15 Min</td><td>0</td></tr><tr><th>&vellip;</th><td>&vellip;</td><td>&vellip;</td><td>&vellip;</td><td>&vellip;</td><td>&vellip;</td><td>&vellip;</td><td>&vellip;</td><td>&vellip;</td><td>&vellip;</td><td>&vellip;</td><td>&vellip;</td><td>&vellip;</td><td>&vellip;</td><td>&vellip;</td></tr></tbody></table></div>"
      ],
      "text/latex": [
       "\\begin{tabular}{r|cccccccccccccc}\n",
       "\t& stop\\_date & stop\\_time & driver\\_gender & driver\\_age\\_raw & driver\\_age & driver\\_race & violation\\_raw & violation & search\\_conducted & search\\_type & stop\\_outcome & is\\_arrested & stop\\_duration & drugs\\_related\\_stop\\\\\n",
       "\t\\hline\n",
       "\t& Date & Time & String? & Float64? & Float64? & String? & String? & String? & Bool & String? & String? & Bool? & String? & Bool\\\\\n",
       "\t\\hline\n",
       "\t1 & 2005-03-14 & 10:00:00 & F & 1984.0 & 21.0 & White & Speeding & Speeding & 0 & \\emph{missing} & Citation & 0 & 0-15 Min & 0 \\\\\n",
       "\t2 & 2005-06-06 & 13:20:00 & F & 1986.0 & 19.0 & White & Speeding & Speeding & 0 & \\emph{missing} & Citation & 0 & 0-15 Min & 0 \\\\\n",
       "\t3 & 2005-07-13 & 19:00:00 & F & 1966.0 & 39.0 & White & Speeding & Speeding & 0 & \\emph{missing} & Citation & 0 & 0-15 Min & 0 \\\\\n",
       "\t4 & 2005-07-18 & 19:30:00 & F & 1984.0 & 21.0 & White & Speeding & Speeding & 0 & \\emph{missing} & Citation & 0 & 0-15 Min & 0 \\\\\n",
       "\t5 & 2005-07-24 & 20:10:00 & F & 1958.0 & 47.0 & White & Speeding & Speeding & 0 & \\emph{missing} & Citation & 0 & 0-15 Min & 0 \\\\\n",
       "\t6 & 2005-07-28 & 12:37:00 & F & 1979.0 & 26.0 & Asian & Speeding & Speeding & 0 & \\emph{missing} & Citation & 0 & 0-15 Min & 0 \\\\\n",
       "\t7 & 2005-08-18 & 10:57:00 & F & 1967.0 & 38.0 & White & Speeding & Speeding & 0 & \\emph{missing} & Citation & 0 & 0-15 Min & 0 \\\\\n",
       "\t8 & 2005-09-21 & 13:30:00 & F & 1977.0 & 28.0 & White & Speeding & Speeding & 0 & \\emph{missing} & Citation & 0 & 0-15 Min & 0 \\\\\n",
       "\t9 & 2005-09-30 & 09:30:00 & F & 1986.0 & 19.0 & White & Speeding & Speeding & 0 & \\emph{missing} & Citation & 0 & 0-15 Min & 0 \\\\\n",
       "\t10 & 2005-10-01 & 17:05:00 & F & 1960.0 & 45.0 & White & Speeding & Speeding & 0 & \\emph{missing} & Citation & 0 & 0-15 Min & 0 \\\\\n",
       "\t11 & 2005-10-01 & 19:15:00 & F & 1981.0 & 24.0 & White & Speeding & Speeding & 0 & \\emph{missing} & Citation & 0 & 0-15 Min & 0 \\\\\n",
       "\t12 & 2005-10-01 & 23:10:00 & F & 1986.0 & 19.0 & White & Speeding & Speeding & 0 & \\emph{missing} & Citation & 0 & 0-15 Min & 0 \\\\\n",
       "\t13 & 2005-10-02 & 00:00:00 & F & 1982.0 & 23.0 & White & Speeding & Speeding & 0 & \\emph{missing} & Citation & 0 & 0-15 Min & 0 \\\\\n",
       "\t14 & 2005-10-02 & 02:30:00 & F & 1968.0 & 37.0 & White & Speeding & Speeding & 0 & \\emph{missing} & Citation & 0 & 0-15 Min & 0 \\\\\n",
       "\t15 & 2005-10-02 & 08:15:00 & F & 1982.0 & 23.0 & White & Speeding & Speeding & 0 & \\emph{missing} & Citation & 0 & 0-15 Min & 0 \\\\\n",
       "\t$\\dots$ & $\\dots$ & $\\dots$ & $\\dots$ & $\\dots$ & $\\dots$ & $\\dots$ & $\\dots$ & $\\dots$ & $\\dots$ & $\\dots$ & $\\dots$ & $\\dots$ & $\\dots$ & $\\dots$ \\\\\n",
       "\\end{tabular}\n"
      ],
      "text/plain": [
       "\u001b[1m23511×14 SubDataFrame\u001b[0m\n",
       "\u001b[1m   Row \u001b[0m│\u001b[1m stop_date  \u001b[0m\u001b[1m stop_time \u001b[0m\u001b[1m driver_gender \u001b[0m\u001b[1m driver_age_raw \u001b[0m\u001b[1m driver_age \u001b[0m\u001b[1m driver_race \u001b[0m\u001b[1m violation_raw                  \u001b[0m\u001b[1m violation           \u001b[0m\u001b[1m search_conducted \u001b[0m\u001b[1m search_type \u001b[0m\u001b[1m stop_outcome \u001b[0m\u001b[1m is_arrested \u001b[0m\u001b[1m stop_duration \u001b[0m\u001b[1m drugs_related_stop \u001b[0m\n",
       "\u001b[1m       \u001b[0m│\u001b[90m Date       \u001b[0m\u001b[90m Time      \u001b[0m\u001b[90m String?       \u001b[0m\u001b[90m Float64?       \u001b[0m\u001b[90m Float64?   \u001b[0m\u001b[90m String?     \u001b[0m\u001b[90m String?                        \u001b[0m\u001b[90m String?             \u001b[0m\u001b[90m Bool             \u001b[0m\u001b[90m String?     \u001b[0m\u001b[90m String?      \u001b[0m\u001b[90m Bool?       \u001b[0m\u001b[90m String?       \u001b[0m\u001b[90m Bool               \u001b[0m\n",
       "───────┼─────────────────────────────────────────────────────────────────────────────────────────────────────────────────────────────────────────────────────────────────────────────────────────────────────────────────────────────────\n",
       "     1 │ 2005-03-14  10:00:00   F                      1984.0        21.0  White        Speeding                        Speeding                        false \u001b[90m missing     \u001b[0m Citation            false  0-15 Min                    false\n",
       "     2 │ 2005-06-06  13:20:00   F                      1986.0        19.0  White        Speeding                        Speeding                        false \u001b[90m missing     \u001b[0m Citation            false  0-15 Min                    false\n",
       "     3 │ 2005-07-13  19:00:00   F                      1966.0        39.0  White        Speeding                        Speeding                        false \u001b[90m missing     \u001b[0m Citation            false  0-15 Min                    false\n",
       "   ⋮   │     ⋮           ⋮            ⋮              ⋮             ⋮            ⋮                     ⋮                          ⋮                  ⋮               ⋮            ⋮             ⋮             ⋮                ⋮\n",
       " 23509 │ 2015-12-31  19:44:00   F                      1969.0        46.0  White        Speeding                        Speeding                        false \u001b[90m missing     \u001b[0m Warning             false  0-15 Min                    false\n",
       " 23510 │ 2015-12-31  19:55:00   F                      1974.0        41.0  White        Registration Violation          Registration/plates             false \u001b[90m missing     \u001b[0m Citation            false  0-15 Min                    false\n",
       " 23511 │ 2015-12-31  20:35:00   F                      1982.0        33.0  White        Equipment/Inspection Violation  Equipment                       false \u001b[90m missing     \u001b[0m Warning             false  0-15 Min                    false\n",
       "\u001b[36m                                                                                                                                                                                                                       23505 rows omitted\u001b[0m"
      ]
     },
     "execution_count": 19,
     "metadata": {},
     "output_type": "execute_result"
    }
   ],
   "source": [
    "gri[(\"F\",)]"
   ]
  },
  {
   "cell_type": "markdown",
   "metadata": {},
   "source": [
    "A more advanced example of chained transformation"
   ]
  },
  {
   "cell_type": "code",
   "execution_count": 20,
   "metadata": {},
   "outputs": [
    {
     "data": {
      "text/plain": [
       "11-element Named Vector{Int64}\n",
       "Dim1  │ \n",
       "──────┼──────\n",
       "2005  │  2558\n",
       "2006  │ 10639\n",
       "2007  │  9476\n",
       "2008  │  8752\n",
       "⋮           ⋮\n",
       "2012  │ 10970\n",
       "2013  │  7924\n",
       "2014  │  9228\n",
       "2015  │  8599"
      ]
     },
     "execution_count": 20,
     "metadata": {},
     "output_type": "execute_result"
    }
   ],
   "source": [
    "# ri.stop_date.str.slice(0, 4).value_counts()\n",
    "freqtable(year.(ri.stop_date))"
   ]
  },
  {
   "cell_type": "markdown",
   "metadata": {},
   "source": [
    "Note that the `.` in `year.` means that the `year` function should be applied to every element of `ri.stop_date` vector (this is called broadcasting)."
   ]
  },
  {
   "cell_type": "code",
   "execution_count": 21,
   "metadata": {},
   "outputs": [
    {
     "data": {
      "text/html": [
       "<div class=\"data-frame\"><p>11 rows × 2 columns</p><table class=\"data-frame\"><thead><tr><th></th><th>year</th><th>count</th></tr><tr><th></th><th title=\"Int64\">Int64</th><th title=\"Int64\">Int64</th></tr></thead><tbody><tr><th>1</th><td>2005</td><td>2558</td></tr><tr><th>2</th><td>2006</td><td>10639</td></tr><tr><th>3</th><td>2007</td><td>9476</td></tr><tr><th>4</th><td>2008</td><td>8752</td></tr><tr><th>5</th><td>2009</td><td>7908</td></tr><tr><th>6</th><td>2010</td><td>7561</td></tr><tr><th>7</th><td>2011</td><td>8126</td></tr><tr><th>8</th><td>2012</td><td>10970</td></tr><tr><th>9</th><td>2013</td><td>7924</td></tr><tr><th>10</th><td>2014</td><td>9228</td></tr><tr><th>11</th><td>2015</td><td>8599</td></tr></tbody></table></div>"
      ],
      "text/latex": [
       "\\begin{tabular}{r|cc}\n",
       "\t& year & count\\\\\n",
       "\t\\hline\n",
       "\t& Int64 & Int64\\\\\n",
       "\t\\hline\n",
       "\t1 & 2005 & 2558 \\\\\n",
       "\t2 & 2006 & 10639 \\\\\n",
       "\t3 & 2007 & 9476 \\\\\n",
       "\t4 & 2008 & 8752 \\\\\n",
       "\t5 & 2009 & 7908 \\\\\n",
       "\t6 & 2010 & 7561 \\\\\n",
       "\t7 & 2011 & 8126 \\\\\n",
       "\t8 & 2012 & 10970 \\\\\n",
       "\t9 & 2013 & 7924 \\\\\n",
       "\t10 & 2014 & 9228 \\\\\n",
       "\t11 & 2015 & 8599 \\\\\n",
       "\\end{tabular}\n"
      ],
      "text/plain": [
       "\u001b[1m11×2 DataFrame\u001b[0m\n",
       "\u001b[1m Row \u001b[0m│\u001b[1m year  \u001b[0m\u001b[1m count \u001b[0m\n",
       "\u001b[1m     \u001b[0m│\u001b[90m Int64 \u001b[0m\u001b[90m Int64 \u001b[0m\n",
       "─────┼──────────────\n",
       "   1 │  2005   2558\n",
       "   2 │  2006  10639\n",
       "   3 │  2007   9476\n",
       "  ⋮  │   ⋮      ⋮\n",
       "   9 │  2013   7924\n",
       "  10 │  2014   9228\n",
       "  11 │  2015   8599\n",
       "\u001b[36m      5 rows omitted\u001b[0m"
      ]
     },
     "execution_count": 21,
     "metadata": {},
     "output_type": "execute_result"
    }
   ],
   "source": [
    "@chain ri begin\n",
    "    select(:stop_date => ByRow(year) => :year)\n",
    "    groupby(:year)\n",
    "    combine(nrow => :count)\n",
    "end"
   ]
  },
  {
   "cell_type": "markdown",
   "metadata": {},
   "source": [
    "In the `select` transformation specification use `ByRow` to indicate that you want to broadcast a function."
   ]
  },
  {
   "cell_type": "markdown",
   "metadata": {},
   "source": [
    "Piping can link anything. As a last example ship out the result to a plot:"
   ]
  },
  {
   "cell_type": "code",
   "execution_count": 22,
   "metadata": {},
   "outputs": [
    {
     "data": {
      "image/png": "[encoded data removed]",
      "text/plain": [
       "Figure(PyObject <Figure size 640x480 with 1 Axes>)"
      ]
     },
     "metadata": {},
     "output_type": "display_data"
    }
   ],
   "source": [
    "# ri.groupby(ri.stop_datetime.dt.hour).drugs_related_stop.mean().plot()\n",
    "@chain ri begin\n",
    "    transform(:stop_time => ByRow(hour) => :hour)\n",
    "    groupby(:hour, sort=true)\n",
    "    combine(:drugs_related_stop => mean)\n",
    "    plot(_.hour, _.drugs_related_stop_mean) # here we pass the previous result as an argument as _ explicitly\n",
    "end;"
   ]
  },
  {
   "cell_type": "markdown",
   "metadata": {},
   "source": [
    "### Selected noteworthy packages\n",
    "\n",
    "* [DataFramesMeta.jl](https://github.com/JuliaData/DataFramesMeta.jl)\n",
    "* [PyCall.jl](https://github.com/JuliaPy/PyCall.jl)\n",
    "* [Arrow.jl](https://github.com/JuliaData/Arrow.jl)\n",
    "* [MLJ.jl](https://github.com/alan-turing-institute/MLJ.jl)\n",
    "* [Flux.jl](https://github.com/FluxML/Flux.jl)\n",
    "\n",
    "and many more (you can find a more verbose list [here](https://juliadata.github.io/DataFrames.jl/latest/#DataFrames.jl-and-the-Julia-Data-Ecosystem))"
   ]
  },
  {
   "cell_type": "markdown",
   "metadata": {},
   "source": [
    "# Thank you!"
   ]
  }
 ],
 "metadata": {
  "@webio": {
   "lastCommId": null,
   "lastKernelId": null
  },
  "kernelspec": {
   "display_name": "Julia 1.6.1",
   "language": "julia",
   "name": "julia-1.6"
  },
  "language_info": {
   "file_extension": ".jl",
   "mimetype": "application/julia",
   "name": "julia",
   "version": "1.6.1"
  }
 },
 "nbformat": 4,
 "nbformat_minor": 2
}
